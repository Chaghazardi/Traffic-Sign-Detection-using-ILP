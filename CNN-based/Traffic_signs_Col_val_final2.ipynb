{
  "cells": [
    {
      "cell_type": "code",
      "execution_count": null,
      "metadata": {
        "colab": {
          "base_uri": "https://localhost:8080/"
        },
        "id": "aWqqHpBLHyNb",
        "outputId": "fb2e330a-4f0a-4217-9778-62e307a3a1bc"
      },
      "outputs": [
        {
          "output_type": "stream",
          "name": "stdout",
          "text": [
            "Colab only includes TensorFlow 2.x; %tensorflow_version has no effect.\n"
          ]
        }
      ],
      "source": [
        "try:\n",
        "# %tensorflow_version only exists in Colab.\n",
        "  %tensorflow_version 2.x\n",
        "except Exception:\n",
        "  pass"
      ]
    },
    {
      "cell_type": "code",
      "execution_count": null,
      "metadata": {
        "colab": {
          "base_uri": "https://localhost:8080/"
        },
        "id": "Lo573uVaINZT",
        "outputId": "83c21999-edf8-4ddf-8035-f08e6274cac6"
      },
      "outputs": [
        {
          "output_type": "stream",
          "name": "stdout",
          "text": [
            "Drive already mounted at /content/drive; to attempt to forcibly remount, call drive.mount(\"/content/drive\", force_remount=True).\n"
          ]
        }
      ],
      "source": [
        "from google.colab import drive\n",
        "drive.mount('/content/drive')"
      ]
    },
    {
      "cell_type": "code",
      "execution_count": null,
      "metadata": {
        "colab": {
          "base_uri": "https://localhost:8080/"
        },
        "id": "N_oFbmCsKTH8",
        "outputId": "90f94d30-c759-4ce8-af65-9c093972e8a5"
      },
      "outputs": [
        {
          "output_type": "stream",
          "name": "stdout",
          "text": [
            "[Errno 2] No such file or directory: 'drive/MyDrive'\n",
            "/content/drive/MyDrive/p2-TrafficSigns-master (1)\n"
          ]
        }
      ],
      "source": [
        "%cd drive/MyDrive"
      ]
    },
    {
      "cell_type": "code",
      "execution_count": null,
      "metadata": {
        "colab": {
          "base_uri": "https://localhost:8080/"
        },
        "id": "mJGjKRtdInOS",
        "outputId": "ac7fdffc-a9fb-4adb-9de9-35d2104c3965"
      },
      "outputs": [
        {
          "output_type": "stream",
          "name": "stdout",
          "text": [
            "[Errno 2] No such file or directory: 'p2-TrafficSigns-master (1)'\n",
            "/content/drive/MyDrive/p2-TrafficSigns-master (1)\n"
          ]
        }
      ],
      "source": [
        "%cd p2-TrafficSigns-master (1)\n"
      ]
    },
    {
      "cell_type": "code",
      "execution_count": null,
      "metadata": {
        "id": "VSmZZx8gIj9t"
      },
      "outputs": [],
      "source": []
    },
    {
      "cell_type": "markdown",
      "metadata": {
        "id": "BODAJOeeHxTG"
      },
      "source": [
        "# Self-Driving Car Engineer Nanodegree\n",
        "\n",
        "## Deep Learning\n",
        "\n",
        "## Project: Build a Traffic Sign Recognition Classifier\n",
        "\n",
        "In this notebook, a template is provided for you to implement your functionality in stages which is required to successfully complete this project. If additional code is required that cannot be included in the notebook, be sure that the Python code is successfully imported and included in your submission, if necessary. Sections that begin with **'Implementation'** in the header indicate where you should begin your implementation for your project. Note that some sections of implementation are optional, and will be marked with **'Optional'** in the header.\n",
        "\n",
        "In addition to implementing code, there will be questions that you must answer which relate to the project and your implementation. Each section where you will answer a question is preceded by a **'Question'** header. Carefully read each question and provide thorough answers in the following text boxes that begin with **'Answer:'**. Your project submission will be evaluated based on your answers to each of the questions and the implementation you provide.\n",
        "\n",
        ">**Note:** Code and Markdown cells can be executed using the **Shift + Enter** keyboard shortcut. In addition, Markdown cells can be edited by typically double-clicking the cell to enter edit mode.\n",
        "\n",
        "\n",
        "---\n",
        "\n",
        "## Step 1: Dataset Exploration\n",
        "\n",
        "Visualize the German Traffic Signs Dataset. This is open ended, some suggestions include: plotting traffic signs images, plotting the count of each sign, etc. Be creative!\n",
        "\n",
        "\n",
        "The pickled data is a dictionary with 4 key/value pairs:\n",
        "\n",
        "- features -> the images pixel values, (width, height, channels)\n",
        "- labels -> the label of the traffic sign\n",
        "- sizes -> the original width and height of the image, (width, height)\n",
        "- coords -> coordinates of a bounding box around the sign in the image, (x1, y1, x2, y2)"
      ]
    },
    {
      "cell_type": "code",
      "execution_count": null,
      "metadata": {
        "id": "5JAOHSQGHxTI"
      },
      "outputs": [],
      "source": [
        "#!pip3 install prettytensor\n"
      ]
    },
    {
      "cell_type": "code",
      "execution_count": null,
      "metadata": {
        "id": "NVWQQLHcHxTK"
      },
      "outputs": [],
      "source": [
        "#importing some useful packages\n",
        "import os\n",
        "import matplotlib\n",
        "matplotlib.rcParams['pdf.fonttype'] = 42\n",
        "matplotlib.rcParams['ps.fonttype'] = 42\n",
        "import matplotlib.pyplot as plt\n",
        "import matplotlib.gridspec as gridspec\n",
        "import math\n",
        "import cv2\n",
        "import time as time\n",
        "import tensorflow.compat.v1 as tf\n",
        "tf.disable_eager_execution()\n",
        "\n",
        "\n",
        "from sklearn.preprocessing import OneHotEncoder\n",
        "#from sklearn.cross_validation import train_test_split\n",
        "from sklearn.model_selection import train_test_split\n",
        "\n",
        "import numpy as np\n",
        "%matplotlib inline\n",
        "\n",
        "\n",
        "#import prettytensor as pt\n",
        "from PIL import Image\n",
        "import time\n",
        "from datetime import timedelta\n",
        "import numpy as np\n",
        "import pandas as pd\n",
        "from sklearn.metrics import confusion_matrix"
      ]
    },
    {
      "cell_type": "code",
      "execution_count": null,
      "metadata": {
        "id": "7JXwSOwuHxTL"
      },
      "outputs": [],
      "source": [
        "def OHE_labels(Y_tr,N_classes):\n",
        "    OHC = OneHotEncoder()\n",
        "    \n",
        "    Y_ohc = OHC.fit(np.arange(N_classes).reshape(-1, 1))\n",
        "    Y_labels = Y_ohc.transform(Y_tr.reshape(-1, 1)).toarray()\n",
        "    return Y_labels"
      ]
    },
    {
      "cell_type": "code",
      "execution_count": null,
      "metadata": {
        "id": "taJoHZD6HxTM"
      },
      "outputs": [],
      "source": [
        "# Load pickled data\n",
        "import pickle\n",
        "\n",
        "\n",
        "# TODO: fill this in based on where you saved the training and testing data\n",
        "training_file = 'TrafficSignData/train.p'\n",
        "testing_file = 'TrafficSignData/test.p'\n",
        "\n",
        "with open(training_file, mode='rb') as f:\n",
        "    train = pickle.load(f)\n",
        "with open(testing_file, mode='rb') as f:\n",
        "    test = pickle.load(f)\n",
        "    \n",
        "X_train, y_train = train['features'], train['labels']\n",
        "X_test, y_test = test['features'], test['labels']\n",
        "labels_train = OHE_labels(y_train,43)\n",
        "labels_test = OHE_labels(y_test,43)"
      ]
    },
    {
      "cell_type": "code",
      "execution_count": null,
      "metadata": {
        "id": "qhnQ7e3dHxTM"
      },
      "outputs": [],
      "source": [
        "def check_OHE(cls,y):\n",
        "    check = np.linalg.norm(np.argmax(cls,axis=1)-y)\n",
        "    if check == 0:\n",
        "        print('One hot encoding correct, ok to proceed')\n",
        "    else:\n",
        "        print('One hot encoding doesnt match the output, check code!!!')\n"
      ]
    },
    {
      "cell_type": "code",
      "execution_count": null,
      "metadata": {
        "colab": {
          "base_uri": "https://localhost:8080/"
        },
        "id": "n8G1OubUHxTN",
        "outputId": "2d263389-2ad5-48a5-e4e2-94fef2bff875"
      },
      "outputs": [
        {
          "output_type": "stream",
          "name": "stdout",
          "text": [
            "One hot encoding correct, ok to proceed\n",
            "One hot encoding correct, ok to proceed\n"
          ]
        }
      ],
      "source": [
        "check_OHE(labels_test,y_test)\n",
        "check_OHE(labels_train,y_train)"
      ]
    },
    {
      "cell_type": "code",
      "execution_count": null,
      "metadata": {
        "colab": {
          "base_uri": "https://localhost:8080/"
        },
        "id": "VYZigH3aHxTO",
        "outputId": "1391bc15-0b9d-476f-d765-8f916b25a2f3"
      },
      "outputs": [
        {
          "output_type": "stream",
          "name": "stdout",
          "text": [
            "Number of training examples = 39209\n",
            "Number of testing examples = 12630\n",
            "Image data shape = (32, 32, 3)\n",
            "Number of classes = 43\n"
          ]
        }
      ],
      "source": [
        "### To start off let's do a basic data summary.\n",
        "\n",
        "# TODO: number of training examples\n",
        "n_train = len(y_train)\n",
        "\n",
        "# TODO: number of testing examples\n",
        "n_test = len(y_test)\n",
        "\n",
        "# TODO: what's the shape of an image?\n",
        "image_shape = np.shape(X_train[1])\n",
        "# TODO: how many classes are in the dataset\n",
        "n_classes = len(np.unique(y_train))\n",
        "\n",
        "print(\"Number of training examples =\", n_train)\n",
        "print(\"Number of testing examples =\", n_test)\n",
        "print(\"Image data shape =\", image_shape)\n",
        "print(\"Number of classes =\", n_classes)"
      ]
    },
    {
      "cell_type": "markdown",
      "metadata": {
        "id": "IAF93wJPHxTP"
      },
      "source": [
        "----\n",
        "\n",
        "## Step 2: Design and Test a Model Architecture\n",
        "\n",
        "Design and implement a deep learning model that learns to recognize traffic signs. Train and test your model on the [German Traffic Sign Dataset](http://benchmark.ini.rub.de/?section=gtsrb&subsection=dataset).\n",
        "\n",
        "There are various aspects to consider when thinking about this problem:\n",
        "\n",
        "- Your model can be derived from a deep feedforward net or a deep convolutional network.\n",
        "- Play around preprocessing techniques (normalization, rgb to grayscale, etc)\n",
        "- Number of examples per label (some have more than others).\n",
        "- Generate fake data.\n",
        "\n",
        "Here is an example of a [published baseline model on this problem](http://yann.lecun.com/exdb/publis/pdf/sermanet-ijcnn-11.pdf). It's not required to be familiar with the approach used in the paper but, it's good practice to try to read papers like these."
      ]
    },
    {
      "cell_type": "markdown",
      "metadata": {
        "id": "2yMF7YXVHxTP"
      },
      "source": [
        "### Question 1 \n",
        "\n",
        "_Describe the techniques used to preprocess the data._"
      ]
    },
    {
      "cell_type": "markdown",
      "metadata": {
        "id": "a6_gjq_QHxTQ"
      },
      "source": [
        "**Answer:**\n",
        "\n",
        "I applied the following preprocessing for image data, \n",
        "\n",
        "1. I first applied histogram equalization so the effect of brightness is removed. I used openCV'2 cv2\n",
        "2. I first scaled images between -.5 and .5, by dividing by 255. and subtracting .5.\n",
        "\n",
        "As there was limited data, and the number of images in each class were different, I generated additional data by jittering the images. For jittering, I rotated the images by random number generated between +/- 40 degress, shifted them by +/- 10 pixels along vertical and horizontal, and a final shearing transformation. After this transformation, the image get transformed as follows. \n",
        "\n",
        "\n",
        "<img src=\"stopsign_sm.jpg\">\n",
        "\n",
        "<img src=\"transformed_stop_signs.png\">\n",
        "\n"
      ]
    },
    {
      "cell_type": "code",
      "execution_count": null,
      "metadata": {
        "id": "2IrKCSLmHxTQ"
      },
      "outputs": [],
      "source": [
        "def plot_random_3C(n_row,n_col,X,y):\n",
        "\n",
        "    plt.figure(figsize = (11,8))\n",
        "    gs1 = gridspec.GridSpec(n_row,n_row)\n",
        "    gs1.update(wspace=0.01, hspace=0.02) # set the spacing between axes. \n",
        "\n",
        "    for i in range(n_row*n_col):\n",
        "        # i = i + 1 # grid spec indexes from 0\n",
        "        ax1 = plt.subplot(gs1[i])\n",
        "        plt.axis('on')\n",
        "        ax1.set_xticklabels([])\n",
        "        ax1.set_yticklabels([])\n",
        "        ax1.set_aspect('equal')\n",
        "        #plt.subplot(4,11,i+1)\n",
        "        ind_plot = np.random.randint(1,len(y))\n",
        "        plt.imshow(X[ind_plot])\n",
        "        plt.text(2,4,str(y[ind_plot]),\n",
        "             color='k',backgroundcolor='c')\n",
        "        plt.axis('off')\n",
        "    plt.show()\n",
        "def plot_random_1C(n_row,n_col,X,y):\n",
        "\n",
        "    plt.figure(figsize = (11,8))\n",
        "    gs1 = gridspec.GridSpec(n_row,n_row)\n",
        "    gs1.update(wspace=0.01, hspace=0.02) # set the spacing between axes. \n",
        "\n",
        "    for i in range(n_row*n_col):\n",
        "        # i = i + 1 # grid spec indexes from 0\n",
        "        ax1 = plt.subplot(gs1[i])\n",
        "        plt.axis('on')\n",
        "        ax1.set_xticklabels([])\n",
        "        ax1.set_yticklabels([])\n",
        "        ax1.set_aspect('equal')\n",
        "        #plt.subplot(4,11,i+1)\n",
        "        ind_plot = np.random.randint(1,len(y))\n",
        "        plt.imshow(X[ind_plot],cmap='gray')\n",
        "        plt.text(2,4,str(y[ind_plot]),\n",
        "             color='k',backgroundcolor='c')\n",
        "        plt.axis('off')\n",
        "    plt.show()   \n",
        "def plot_random_preprocess(n_row,n_col,X,y):\n",
        "\n",
        "    plt.figure(figsize = (11,8))\n",
        "    gs1 = gridspec.GridSpec(n_row,n_row)\n",
        "    gs1.update(wspace=0.01, hspace=0.02) # set the spacing between axes. \n",
        "\n",
        "    for i in range(n_row*n_col):\n",
        "        # i = i + 1 # grid spec indexes from 0\n",
        "        ax1 = plt.subplot(gs1[i])\n",
        "        plt.axis('on')\n",
        "        ax1.set_xticklabels([])\n",
        "        ax1.set_yticklabels([])\n",
        "        ax1.set_aspect('equal')\n",
        "        #plt.subplot(4,11,i+1)\n",
        "        ind_plot = np.random.randint(1,len(y))\n",
        "        plt.imshow(pre_process_image(X[ind_plot]),cmap='gray')\n",
        "        plt.text(2,4,str(y[ind_plot]),\n",
        "             color='k',backgroundcolor='c')\n",
        "        plt.axis('off')\n",
        "    plt.show()\n",
        "\n",
        "    \n",
        "def pre_process_image(image):\n",
        "\n",
        "    #image = cv2.cvtColor(image, cv2.COLOR_BGR2YUV)\n",
        "    #image = image[:,:,0]\n",
        "    image[:,:,0] = cv2.equalizeHist(image[:,:,0])\n",
        "    image[:,:,1] = cv2.equalizeHist(image[:,:,1])\n",
        "    image[:,:,2] = cv2.equalizeHist(image[:,:,2])\n",
        "    image = image/255.-.5\n",
        "    #image = cv2.resize(image, (img_resize,img_resize),interpolation = cv2.INTER_CUBIC)\n",
        "    \n",
        "    return image"
      ]
    },
    {
      "cell_type": "code",
      "execution_count": null,
      "metadata": {
        "id": "GDRkajzRHxTR"
      },
      "outputs": [],
      "source": [
        "image = X_train[0]\n"
      ]
    },
    {
      "cell_type": "code",
      "execution_count": null,
      "metadata": {
        "colab": {
          "base_uri": "https://localhost:8080/",
          "height": 466
        },
        "id": "hDwf6DbLHxTR",
        "outputId": "b3588ef1-046a-401b-c034-7b3fdbbbfd77"
      },
      "outputs": [
        {
          "output_type": "display_data",
          "data": {
            "text/plain": [
              "<Figure size 792x576 with 16 Axes>"
            ],
            "image/png": "[encoded data removed]"
          },
          "metadata": {
            "needs_background": "light"
          }
        }
      ],
      "source": [
        "plot_random_3C(4,4,X_train,y_train)"
      ]
    },
    {
      "cell_type": "code",
      "execution_count": null,
      "metadata": {
        "id": "jaWXL7kXHxTS"
      },
      "outputs": [],
      "source": [
        "img_resize = 32\n",
        "N_classes = 43\n",
        "image_shape = (img_resize,img_resize)\n",
        "img_size_flat = img_resize*img_resize\n",
        "\n",
        "\n",
        "image_GS_train = np.array([pre_process_image(X_train[i]) for i in range(len(X_train))],\n",
        "                          dtype = np.float32)\n",
        "image_GS_test = np.array([pre_process_image(X_test[i]) for i in range(len(X_test))],\n",
        "                          dtype = np.float32)"
      ]
    },
    {
      "cell_type": "code",
      "execution_count": null,
      "metadata": {
        "id": "Lw5YrIsGHxTS"
      },
      "outputs": [],
      "source": []
    },
    {
      "cell_type": "code",
      "execution_count": null,
      "metadata": {
        "colab": {
          "base_uri": "https://localhost:8080/",
          "height": 466
        },
        "id": "xRtSLpAkHxTS",
        "outputId": "015c3b46-6f1c-445b-9874-1c0f1b30ba39"
      },
      "outputs": [
        {
          "output_type": "display_data",
          "data": {
            "text/plain": [
              "<Figure size 792x576 with 16 Axes>"
            ],
            "image/png": "[encoded data removed]"
          },
          "metadata": {
            "needs_background": "light"
          }
        }
      ],
      "source": [
        "plot_random_3C(4,4,image_GS_train+.5,y_train)"
      ]
    },
    {
      "cell_type": "code",
      "execution_count": null,
      "metadata": {
        "id": "cBvt3_ykHxTS"
      },
      "outputs": [],
      "source": [
        "data_i = [[i,sum(y_train == i)] for i in range(len(np.unique(y_train)))]\n",
        "data_i_sorted = sorted(data_i, key=lambda x: x[1])"
      ]
    },
    {
      "cell_type": "code",
      "execution_count": null,
      "metadata": {
        "id": "jHIcSHrtHxTT"
      },
      "outputs": [],
      "source": [
        "data_pd = pd.read_csv('signnames.csv')"
      ]
    },
    {
      "cell_type": "code",
      "execution_count": null,
      "metadata": {
        "colab": {
          "base_uri": "https://localhost:8080/"
        },
        "id": "9plWV53EHxTT",
        "outputId": "680adf91-c531-4eed-ec2c-2f9162fd8be9"
      },
      "outputs": [
        {
          "output_type": "stream",
          "name": "stderr",
          "text": [
            "<ipython-input-83-56354f337a91>:3: FutureWarning: In a future version of pandas all arguments of DataFrame.drop except for the argument 'labels' will be keyword-only\n",
            "  data_pd_sorted = data_pd_sorted.drop('index', 1)\n"
          ]
        }
      ],
      "source": [
        "data_pd['Occurance'] = pd.Series(np.asarray(data_i_sorted).T[1], index=np.asarray(data_i_sorted).T[0])\n",
        "data_pd_sorted = data_pd.sort_values(['Occurance'],ascending=[0]).reset_index()\n",
        "data_pd_sorted = data_pd_sorted.drop('index', 1)\n"
      ]
    },
    {
      "cell_type": "code",
      "execution_count": null,
      "metadata": {
        "colab": {
          "base_uri": "https://localhost:8080/",
          "height": 363
        },
        "id": "-agubL2THxTT",
        "outputId": "65f45dd2-2752-4bcb-cbb9-60f30d34780c"
      },
      "outputs": [
        {
          "output_type": "execute_result",
          "data": {
            "text/plain": [
              "   ClassId                                      SignName  Occurance\n",
              "0        2                          Speed limit (50km/h)       2250\n",
              "1        1                          Speed limit (30km/h)       2220\n",
              "2       13                                         Yield       2160\n",
              "3       12                                 Priority road       2100\n",
              "4       38                                    Keep right       2070\n",
              "5       10  No passing for vehicles over 3.5 metric tons       2010\n",
              "6        4                          Speed limit (70km/h)       1980\n",
              "7        5                          Speed limit (80km/h)       1860\n",
              "8       25                                     Road work       1500\n",
              "9        9                                    No passing       1470"
            ],
            "text/html": [
              "\n",
              "  <div id=\"df-d812cf1a-1208-47a2-b47c-a77c5b95f7f9\">\n",
              "    <div class=\"colab-df-container\">\n",
              "      <div>\n",
              "<style scoped>\n",
              "    .dataframe tbody tr th:only-of-type {\n",
              "        vertical-align: middle;\n",
              "    }\n",
              "\n",
              "    .dataframe tbody tr th {\n",
              "        vertical-align: top;\n",
              "    }\n",
              "\n",
              "    .dataframe thead th {\n",
              "        text-align: right;\n",
              "    }\n",
              "</style>\n",
              "<table border=\"1\" class=\"dataframe\">\n",
              "  <thead>\n",
              "    <tr style=\"text-align: right;\">\n",
              "      <th></th>\n",
              "      <th>ClassId</th>\n",
              "      <th>SignName</th>\n",
              "      <th>Occurance</th>\n",
              "    </tr>\n",
              "  </thead>\n",
              "  <tbody>\n",
              "    <tr>\n",
              "      <th>0</th>\n",
              "      <td>2</td>\n",
              "      <td>Speed limit (50km/h)</td>\n",
              "      <td>2250</td>\n",
              "    </tr>\n",
              "    <tr>\n",
              "      <th>1</th>\n",
              "      <td>1</td>\n",
              "      <td>Speed limit (30km/h)</td>\n",
              "      <td>2220</td>\n",
              "    </tr>\n",
              "    <tr>\n",
              "      <th>2</th>\n",
              "      <td>13</td>\n",
              "      <td>Yield</td>\n",
              "      <td>2160</td>\n",
              "    </tr>\n",
              "    <tr>\n",
              "      <th>3</th>\n",
              "      <td>12</td>\n",
              "      <td>Priority road</td>\n",
              "      <td>2100</td>\n",
              "    </tr>\n",
              "    <tr>\n",
              "      <th>4</th>\n",
              "      <td>38</td>\n",
              "      <td>Keep right</td>\n",
              "      <td>2070</td>\n",
              "    </tr>\n",
              "    <tr>\n",
              "      <th>5</th>\n",
              "      <td>10</td>\n",
              "      <td>No passing for vehicles over 3.5 metric tons</td>\n",
              "      <td>2010</td>\n",
              "    </tr>\n",
              "    <tr>\n",
              "      <th>6</th>\n",
              "      <td>4</td>\n",
              "      <td>Speed limit (70km/h)</td>\n",
              "      <td>1980</td>\n",
              "    </tr>\n",
              "    <tr>\n",
              "      <th>7</th>\n",
              "      <td>5</td>\n",
              "      <td>Speed limit (80km/h)</td>\n",
              "      <td>1860</td>\n",
              "    </tr>\n",
              "    <tr>\n",
              "      <th>8</th>\n",
              "      <td>25</td>\n",
              "      <td>Road work</td>\n",
              "      <td>1500</td>\n",
              "    </tr>\n",
              "    <tr>\n",
              "      <th>9</th>\n",
              "      <td>9</td>\n",
              "      <td>No passing</td>\n",
              "      <td>1470</td>\n",
              "    </tr>\n",
              "  </tbody>\n",
              "</table>\n",
              "</div>\n",
              "      <button class=\"colab-df-convert\" onclick=\"convertToInteractive('df-d812cf1a-1208-47a2-b47c-a77c5b95f7f9')\"\n",
              "              title=\"Convert this dataframe to an interactive table.\"\n",
              "              style=\"display:none;\">\n",
              "        \n",
              "  <svg xmlns=\"http://www.w3.org/2000/svg\" height=\"24px\"viewBox=\"0 0 24 24\"\n",
              "       width=\"24px\">\n",
              "    <path d=\"M0 0h24v24H0V0z\" fill=\"none\"/>\n",
              "    <path d=\"M18.56 5.44l.94 2.06.94-2.06 2.06-.94-2.06-.94-.94-2.06-.94 2.06-2.06.94zm-11 1L8.5 8.5l.94-2.06 2.06-.94-2.06-.94L8.5 2.5l-.94 2.06-2.06.94zm10 10l.94 2.06.94-2.06 2.06-.94-2.06-.94-.94-2.06-.94 2.06-2.06.94z\"/><path d=\"M17.41 7.96l-1.37-1.37c-.4-.4-.92-.59-1.43-.59-.52 0-1.04.2-1.43.59L10.3 9.45l-7.72 7.72c-.78.78-.78 2.05 0 2.83L4 21.41c.39.39.9.59 1.41.59.51 0 1.02-.2 1.41-.59l7.78-7.78 2.81-2.81c.8-.78.8-2.07 0-2.86zM5.41 20L4 18.59l7.72-7.72 1.47 1.35L5.41 20z\"/>\n",
              "  </svg>\n",
              "      </button>\n",
              "      \n",
              "  <style>\n",
              "    .colab-df-container {\n",
              "      display:flex;\n",
              "      flex-wrap:wrap;\n",
              "      gap: 12px;\n",
              "    }\n",
              "\n",
              "    .colab-df-convert {\n",
              "      background-color: #E8F0FE;\n",
              "      border: none;\n",
              "      border-radius: 50%;\n",
              "      cursor: pointer;\n",
              "      display: none;\n",
              "      fill: #1967D2;\n",
              "      height: 32px;\n",
              "      padding: 0 0 0 0;\n",
              "      width: 32px;\n",
              "    }\n",
              "\n",
              "    .colab-df-convert:hover {\n",
              "      background-color: #E2EBFA;\n",
              "      box-shadow: 0px 1px 2px rgba(60, 64, 67, 0.3), 0px 1px 3px 1px rgba(60, 64, 67, 0.15);\n",
              "      fill: #174EA6;\n",
              "    }\n",
              "\n",
              "    [theme=dark] .colab-df-convert {\n",
              "      background-color: #3B4455;\n",
              "      fill: #D2E3FC;\n",
              "    }\n",
              "\n",
              "    [theme=dark] .colab-df-convert:hover {\n",
              "      background-color: #434B5C;\n",
              "      box-shadow: 0px 1px 3px 1px rgba(0, 0, 0, 0.15);\n",
              "      filter: drop-shadow(0px 1px 2px rgba(0, 0, 0, 0.3));\n",
              "      fill: #FFFFFF;\n",
              "    }\n",
              "  </style>\n",
              "\n",
              "      <script>\n",
              "        const buttonEl =\n",
              "          document.querySelector('#df-d812cf1a-1208-47a2-b47c-a77c5b95f7f9 button.colab-df-convert');\n",
              "        buttonEl.style.display =\n",
              "          google.colab.kernel.accessAllowed ? 'block' : 'none';\n",
              "\n",
              "        async function convertToInteractive(key) {\n",
              "          const element = document.querySelector('#df-d812cf1a-1208-47a2-b47c-a77c5b95f7f9');\n",
              "          const dataTable =\n",
              "            await google.colab.kernel.invokeFunction('convertToInteractive',\n",
              "                                                     [key], {});\n",
              "          if (!dataTable) return;\n",
              "\n",
              "          const docLinkHtml = 'Like what you see? Visit the ' +\n",
              "            '<a target=\"_blank\" href=https://colab.research.google.com/notebooks/data_table.ipynb>data table notebook</a>'\n",
              "            + ' to learn more about interactive tables.';\n",
              "          element.innerHTML = '';\n",
              "          dataTable['output_type'] = 'display_data';\n",
              "          await google.colab.output.renderOutput(dataTable, element);\n",
              "          const docLink = document.createElement('div');\n",
              "          docLink.innerHTML = docLinkHtml;\n",
              "          element.appendChild(docLink);\n",
              "        }\n",
              "      </script>\n",
              "    </div>\n",
              "  </div>\n",
              "  "
            ]
          },
          "metadata": {},
          "execution_count": 84
        }
      ],
      "source": [
        "data_pd_sorted.head(10)"
      ]
    },
    {
      "cell_type": "code",
      "execution_count": null,
      "metadata": {
        "colab": {
          "base_uri": "https://localhost:8080/",
          "height": 363
        },
        "id": "Vrf50F8nHxTT",
        "outputId": "3bff0499-b748-45a0-ca7c-7118869ab6d1"
      },
      "outputs": [
        {
          "output_type": "execute_result",
          "data": {
            "text/plain": [
              "    ClassId                                           SignName  Occurance\n",
              "33       39                                          Keep left        300\n",
              "34       29                                  Bicycles crossing        270\n",
              "35       24                          Road narrows on the right        270\n",
              "36       41                                  End of no passing        240\n",
              "37       42  End of no passing by vehicles over 3.5 metric ...        240\n",
              "38       32                End of all speed and passing limits        240\n",
              "39       27                                        Pedestrians        240\n",
              "40       37                                Go straight or left        210\n",
              "41       19                        Dangerous curve to the left        210\n",
              "42        0                               Speed limit (20km/h)        210"
            ],
            "text/html": [
              "\n",
              "  <div id=\"df-ce79aaad-9294-47dc-9284-45d2c137c211\">\n",
              "    <div class=\"colab-df-container\">\n",
              "      <div>\n",
              "<style scoped>\n",
              "    .dataframe tbody tr th:only-of-type {\n",
              "        vertical-align: middle;\n",
              "    }\n",
              "\n",
              "    .dataframe tbody tr th {\n",
              "        vertical-align: top;\n",
              "    }\n",
              "\n",
              "    .dataframe thead th {\n",
              "        text-align: right;\n",
              "    }\n",
              "</style>\n",
              "<table border=\"1\" class=\"dataframe\">\n",
              "  <thead>\n",
              "    <tr style=\"text-align: right;\">\n",
              "      <th></th>\n",
              "      <th>ClassId</th>\n",
              "      <th>SignName</th>\n",
              "      <th>Occurance</th>\n",
              "    </tr>\n",
              "  </thead>\n",
              "  <tbody>\n",
              "    <tr>\n",
              "      <th>33</th>\n",
              "      <td>39</td>\n",
              "      <td>Keep left</td>\n",
              "      <td>300</td>\n",
              "    </tr>\n",
              "    <tr>\n",
              "      <th>34</th>\n",
              "      <td>29</td>\n",
              "      <td>Bicycles crossing</td>\n",
              "      <td>270</td>\n",
              "    </tr>\n",
              "    <tr>\n",
              "      <th>35</th>\n",
              "      <td>24</td>\n",
              "      <td>Road narrows on the right</td>\n",
              "      <td>270</td>\n",
              "    </tr>\n",
              "    <tr>\n",
              "      <th>36</th>\n",
              "      <td>41</td>\n",
              "      <td>End of no passing</td>\n",
              "      <td>240</td>\n",
              "    </tr>\n",
              "    <tr>\n",
              "      <th>37</th>\n",
              "      <td>42</td>\n",
              "      <td>End of no passing by vehicles over 3.5 metric ...</td>\n",
              "      <td>240</td>\n",
              "    </tr>\n",
              "    <tr>\n",
              "      <th>38</th>\n",
              "      <td>32</td>\n",
              "      <td>End of all speed and passing limits</td>\n",
              "      <td>240</td>\n",
              "    </tr>\n",
              "    <tr>\n",
              "      <th>39</th>\n",
              "      <td>27</td>\n",
              "      <td>Pedestrians</td>\n",
              "      <td>240</td>\n",
              "    </tr>\n",
              "    <tr>\n",
              "      <th>40</th>\n",
              "      <td>37</td>\n",
              "      <td>Go straight or left</td>\n",
              "      <td>210</td>\n",
              "    </tr>\n",
              "    <tr>\n",
              "      <th>41</th>\n",
              "      <td>19</td>\n",
              "      <td>Dangerous curve to the left</td>\n",
              "      <td>210</td>\n",
              "    </tr>\n",
              "    <tr>\n",
              "      <th>42</th>\n",
              "      <td>0</td>\n",
              "      <td>Speed limit (20km/h)</td>\n",
              "      <td>210</td>\n",
              "    </tr>\n",
              "  </tbody>\n",
              "</table>\n",
              "</div>\n",
              "      <button class=\"colab-df-convert\" onclick=\"convertToInteractive('df-ce79aaad-9294-47dc-9284-45d2c137c211')\"\n",
              "              title=\"Convert this dataframe to an interactive table.\"\n",
              "              style=\"display:none;\">\n",
              "        \n",
              "  <svg xmlns=\"http://www.w3.org/2000/svg\" height=\"24px\"viewBox=\"0 0 24 24\"\n",
              "       width=\"24px\">\n",
              "    <path d=\"M0 0h24v24H0V0z\" fill=\"none\"/>\n",
              "    <path d=\"M18.56 5.44l.94 2.06.94-2.06 2.06-.94-2.06-.94-.94-2.06-.94 2.06-2.06.94zm-11 1L8.5 8.5l.94-2.06 2.06-.94-2.06-.94L8.5 2.5l-.94 2.06-2.06.94zm10 10l.94 2.06.94-2.06 2.06-.94-2.06-.94-.94-2.06-.94 2.06-2.06.94z\"/><path d=\"M17.41 7.96l-1.37-1.37c-.4-.4-.92-.59-1.43-.59-.52 0-1.04.2-1.43.59L10.3 9.45l-7.72 7.72c-.78.78-.78 2.05 0 2.83L4 21.41c.39.39.9.59 1.41.59.51 0 1.02-.2 1.41-.59l7.78-7.78 2.81-2.81c.8-.78.8-2.07 0-2.86zM5.41 20L4 18.59l7.72-7.72 1.47 1.35L5.41 20z\"/>\n",
              "  </svg>\n",
              "      </button>\n",
              "      \n",
              "  <style>\n",
              "    .colab-df-container {\n",
              "      display:flex;\n",
              "      flex-wrap:wrap;\n",
              "      gap: 12px;\n",
              "    }\n",
              "\n",
              "    .colab-df-convert {\n",
              "      background-color: #E8F0FE;\n",
              "      border: none;\n",
              "      border-radius: 50%;\n",
              "      cursor: pointer;\n",
              "      display: none;\n",
              "      fill: #1967D2;\n",
              "      height: 32px;\n",
              "      padding: 0 0 0 0;\n",
              "      width: 32px;\n",
              "    }\n",
              "\n",
              "    .colab-df-convert:hover {\n",
              "      background-color: #E2EBFA;\n",
              "      box-shadow: 0px 1px 2px rgba(60, 64, 67, 0.3), 0px 1px 3px 1px rgba(60, 64, 67, 0.15);\n",
              "      fill: #174EA6;\n",
              "    }\n",
              "\n",
              "    [theme=dark] .colab-df-convert {\n",
              "      background-color: #3B4455;\n",
              "      fill: #D2E3FC;\n",
              "    }\n",
              "\n",
              "    [theme=dark] .colab-df-convert:hover {\n",
              "      background-color: #434B5C;\n",
              "      box-shadow: 0px 1px 3px 1px rgba(0, 0, 0, 0.15);\n",
              "      filter: drop-shadow(0px 1px 2px rgba(0, 0, 0, 0.3));\n",
              "      fill: #FFFFFF;\n",
              "    }\n",
              "  </style>\n",
              "\n",
              "      <script>\n",
              "        const buttonEl =\n",
              "          document.querySelector('#df-ce79aaad-9294-47dc-9284-45d2c137c211 button.colab-df-convert');\n",
              "        buttonEl.style.display =\n",
              "          google.colab.kernel.accessAllowed ? 'block' : 'none';\n",
              "\n",
              "        async function convertToInteractive(key) {\n",
              "          const element = document.querySelector('#df-ce79aaad-9294-47dc-9284-45d2c137c211');\n",
              "          const dataTable =\n",
              "            await google.colab.kernel.invokeFunction('convertToInteractive',\n",
              "                                                     [key], {});\n",
              "          if (!dataTable) return;\n",
              "\n",
              "          const docLinkHtml = 'Like what you see? Visit the ' +\n",
              "            '<a target=\"_blank\" href=https://colab.research.google.com/notebooks/data_table.ipynb>data table notebook</a>'\n",
              "            + ' to learn more about interactive tables.';\n",
              "          element.innerHTML = '';\n",
              "          dataTable['output_type'] = 'display_data';\n",
              "          await google.colab.output.renderOutput(dataTable, element);\n",
              "          const docLink = document.createElement('div');\n",
              "          docLink.innerHTML = docLinkHtml;\n",
              "          element.appendChild(docLink);\n",
              "        }\n",
              "      </script>\n",
              "    </div>\n",
              "  </div>\n",
              "  "
            ]
          },
          "metadata": {},
          "execution_count": 85
        }
      ],
      "source": [
        "data_pd_sorted.tail(10)"
      ]
    },
    {
      "cell_type": "code",
      "execution_count": null,
      "metadata": {
        "colab": {
          "base_uri": "https://localhost:8080/",
          "height": 501
        },
        "id": "RyACfcmhHxTT",
        "outputId": "b5a6f1e9-88d9-47f6-bafd-1bb598525f6e",
        "scrolled": false
      },
      "outputs": [
        {
          "output_type": "execute_result",
          "data": {
            "text/plain": [
              "<BarContainer object of 43 artists>"
            ]
          },
          "metadata": {},
          "execution_count": 86
        },
        {
          "output_type": "display_data",
          "data": {
            "text/plain": [
              "<Figure size 864x576 with 1 Axes>"
            ],
            "image/png": "[encoded data removed]"
          },
          "metadata": {
            "needs_background": "light"
          }
        }
      ],
      "source": [
        "plt.figure(figsize=(12,8))\n",
        "plt.bar(range(43),height=data_pd_sorted[\"Occurance\"])"
      ]
    },
    {
      "cell_type": "code",
      "execution_count": null,
      "metadata": {
        "id": "zTmQEKDcHxTU"
      },
      "outputs": [],
      "source": [
        "img_resize = 32\n",
        "def transform_image(image,ang_range,shear_range,trans_range):\n",
        "\n",
        "    # Rotation\n",
        "\n",
        "    ang_rot = np.random.uniform(ang_range)-ang_range/2\n",
        "    rows,cols,ch = image.shape    \n",
        "    Rot_M = cv2.getRotationMatrix2D((cols/2,rows/2),ang_rot,1)\n",
        "\n",
        "    # Translation\n",
        "    tr_x = trans_range*np.random.uniform()-trans_range/2\n",
        "    tr_y = trans_range*np.random.uniform()-trans_range/2\n",
        "    Trans_M = np.float32([[1,0,tr_x],[0,1,tr_y]])\n",
        "\n",
        "    # Shear\n",
        "    pts1 = np.float32([[5,5],[20,5],[5,20]])\n",
        "\n",
        "    pt1 = 5+shear_range*np.random.uniform()-shear_range/2\n",
        "    pt2 = 20+shear_range*np.random.uniform()-shear_range/2\n",
        "\n",
        "    pts2 = np.float32([[pt1,5],[pt2,pt1],[5,pt2]])\n",
        "\n",
        "    shear_M = cv2.getAffineTransform(pts1,pts2)\n",
        "        \n",
        "    image = cv2.warpAffine(image,Rot_M,(cols,rows))\n",
        "    image = cv2.warpAffine(image,Trans_M,(cols,rows))\n",
        "    image = cv2.warpAffine(image,shear_M,(cols,rows))\n",
        "    \n",
        "    image = pre_process_image(image)\n",
        "    \n",
        "    #image = cv2.cvtColor(image, cv2.COLOR_BGR2YUV)\n",
        "    #image = image[:,:,0]\n",
        "    #image = cv2.resize(image, (img_resize,img_resize),interpolation = cv2.INTER_CUBIC)\n",
        "    \n",
        "    return image\n",
        "\n",
        "def get_index_dict(y_train):\n",
        "    # Returns indices of each label\n",
        "    # Assumes that the labels are 0 to N-1\n",
        "    dict_indices = {}\n",
        "    ind_all = np.arange(len(y_train))\n",
        "\n",
        "    for i in range(len(np.unique(y_train))):\n",
        "        ind_i = ind_all[y_train == i]\n",
        "        dict_indices[i] = ind_i\n",
        "        #print(ind_i)\n",
        "    return dict_indices\n",
        "\n",
        "def gen_transformed_data(X_train,y_train,N_classes,n_each,ang_range,shear_range,trans_range,randomize_Var):\n",
        "   \n",
        "   dict_indices = get_index_dict(y_train)\n",
        "   n_class = len(np.unique(y_train))\n",
        "   X_arr = []\n",
        "   Y_arr = []\n",
        "   for i in range(n_class):\n",
        "       len_i = len(dict_indices[i])\n",
        "       ind_rand = np.random.randint(0,len_i,n_each)\n",
        "       ind_dict_class  = dict_indices[i]\n",
        "       \n",
        "       for i_n in range(n_each):\n",
        "           img_trf = transform_image(X_train[ind_dict_class[ind_rand[i_n]]],\n",
        "                                     ang_range,shear_range,trans_range)\n",
        "           X_arr.append(img_trf)\n",
        "           Y_arr.append(i)\n",
        "           \n",
        "   X_arr = np.array(X_arr,dtype = np.float32())\n",
        "   Y_arr = np.array(Y_arr,dtype = np.float32())\n",
        "   \n",
        "   if (randomize_Var == 1):\n",
        "       len_arr = np.arange(len(Y_arr))\n",
        "       np.random.shuffle(len_arr)\n",
        "       X_arr[len_arr] = X_arr\n",
        "       Y_arr[len_arr] = Y_arr\n",
        "       \n",
        "   labels_arr = OHE_labels(Y_arr,43)\n",
        "\n",
        "   return X_arr,Y_arr,labels_arr\n",
        "\n",
        "\n",
        "def gen_extra_data(X_train,y_train,N_classes,n_each,ang_range,shear_range,trans_range,randomize_Var):\n",
        "    \n",
        "    dict_indices = get_index_dict(y_train)\n",
        "    n_class = len(np.unique(y_train)) \n",
        "    X_arr = []\n",
        "    Y_arr = []\n",
        "    n_train = len(X_train)\n",
        "    for i in range(n_train):\n",
        "        #X_arr.append(transform_image(X_train[i],0,0,0)/255.)\n",
        "        #Y_arr.append(y_train[i])\n",
        "        for i_n in range(n_each):\n",
        "            img_trf = transform_image(X_train[i],\n",
        "                                      ang_range,shear_range,trans_range)\n",
        "            X_arr.append(img_trf)\n",
        "            Y_arr.append(y_train[i])\n",
        "            \n",
        "    X_arr = np.array(X_arr,dtype = np.float32())\n",
        "    Y_arr = np.array(Y_arr,dtype = np.float32())\n",
        "    \n",
        "    if (randomize_Var == 1):\n",
        "        len_arr = np.arange(len(Y_arr))\n",
        "        np.random.shuffle(len_arr)\n",
        "        X_arr[len_arr] = X_arr\n",
        "        Y_arr[len_arr] = Y_arr\n",
        "        \n",
        "    labels_arr = OHE_labels(Y_arr,43)\n",
        "\n",
        "    return X_arr,Y_arr,labels_arr"
      ]
    },
    {
      "cell_type": "markdown",
      "metadata": {
        "id": "XGMTPKp2HxTU"
      },
      "source": [
        "### Question 2\n",
        "\n",
        "_Describe how you set up the training, validation and testing data for your model. If you generated additional data, why?_"
      ]
    },
    {
      "cell_type": "markdown",
      "metadata": {
        "id": "aXd7M3YgHxTU"
      },
      "source": [
        "**Answer:**\n",
        "\n",
        "\n",
        "1. ***Splitting data into training and validation set:*** I first split the data into training and validation sets using sklearn's test_train_split function. I split the data so 10% of the data was validation data and 90% was training data. I then generated \n",
        "\n",
        "2. ***Generating addtional data:*** As the training data was limited, I generated additional training data by using the image augmentation techniques presented above. For each image in the original training set, I generated 5 transformed images. By generating 5 additional images, the number of images increased but the the relative number of images in each set did not change. I inetentionally kept the ratio of images in each class the same because we expect to see an uneven distribution of signs in real life too. I started with a large rotation angle, translation and shear range for transforming images in the initial epochs of training. However, after first 4 epochs, I reduced these range by a factor of 0.9 in each epoch."
      ]
    },
    {
      "cell_type": "code",
      "execution_count": null,
      "metadata": {
        "id": "Hu7bleiiHxTV"
      },
      "outputs": [],
      "source": [
        "Image_train_GS_rot,y_train_rot,labels_train_rot = gen_transformed_data(X_train,y_train,\n",
        "                                                                       43,10,30,5,5,1)"
      ]
    },
    {
      "cell_type": "markdown",
      "metadata": {
        "id": "ahmsntc4HxTV"
      },
      "source": [
        "----\n",
        "\n",
        "## Step 2: Design and Test a Model Architecture\n",
        "\n",
        "Design and implement a deep learning model that learns to recognize traffic signs. Train and test your model on the [German Traffic Sign Dataset](http://benchmark.ini.rub.de/?section=gtsrb&subsection=dataset).\n",
        "\n",
        "There are various aspects to consider when thinking about this problem:\n",
        "\n",
        "- Your model can be derived from a deep feedforward net or a deep convolutional network.\n",
        "- Play around preprocessing techniques (normalization, rgb to grayscale, etc)\n",
        "- Number of examples per label (some have more than others).\n",
        "- Generate fake data.\n",
        "\n",
        "Here is an example of a [published baseline model on this problem](http://yann.lecun.com/exdb/publis/pdf/sermanet-ijcnn-11.pdf). It's not required to be familiar with the approach used in the paper but, it's good practice to try to read papers like these."
      ]
    },
    {
      "cell_type": "code",
      "execution_count": null,
      "metadata": {
        "id": "4M30QefvHxTV"
      },
      "outputs": [],
      "source": [
        "def random_batch():\n",
        "    # Number of images in the training-set.\n",
        "    num_images = len(Image_train_GS_rot_1)\n",
        "\n",
        "    # Create a random index.\n",
        "    idx = np.random.choice(num_images,\n",
        "                           size=batch_size,\n",
        "                           replace=False)\n",
        "\n",
        "    # Use the random index to select random images and labels.\n",
        "    features_batch = Image_train_GS_rot_1[idx, :,:,:]\n",
        "    labels_batch = labels_train_rot[idx, :]\n",
        "\n",
        "    return features_batch, labels_batch"
      ]
    },
    {
      "cell_type": "code",
      "execution_count": null,
      "metadata": {
        "id": "jsjd95JEHxTV"
      },
      "outputs": [],
      "source": []
    },
    {
      "cell_type": "code",
      "execution_count": null,
      "metadata": {
        "id": "jZdKwGITHxTV"
      },
      "outputs": [],
      "source": [
        "def get_weights(shape):\n",
        "    return tf.Variable(tf.truncated_normal(shape, stddev=0.05))\n",
        "def get_biases(length):\n",
        "    return tf.Variable(tf.constant(0.05, shape=[length]))\n",
        "\n",
        "def conv_layer(input,\n",
        "               num_inp_channels,\n",
        "               filter_size,\n",
        "               num_filters,\n",
        "              use_pooling):\n",
        "    shape = [filter_size, filter_size, num_inp_channels,num_filters]\n",
        "    weights = get_weights(shape)\n",
        "    biases = get_biases(num_filters)\n",
        "    layer = tf.nn.conv2d(input = input,\n",
        "                        filter = weights,\n",
        "                        strides = [1,1,1,1],\n",
        "                        padding = 'SAME')\n",
        "\n",
        "    layer += biases\n",
        "    \n",
        "    if use_pooling:\n",
        "        layer = tf.nn.max_pool(value=layer,\n",
        "                         ksize=[1, 2, 2, 1],\n",
        "                         strides=[1, 2, 2, 1],\n",
        "                         padding='SAME')\n",
        "    layer = tf.nn.relu(layer)\n",
        "    \n",
        "    return layer, weights"
      ]
    },
    {
      "cell_type": "code",
      "execution_count": null,
      "metadata": {
        "id": "Rfi74TsCHxTV"
      },
      "outputs": [],
      "source": [
        "def flatten_layer(layer):\n",
        "    # Get the shape of the input layer.\n",
        "    layer_shape = layer.get_shape()\n",
        "    num_features = layer_shape[1:4].num_elements()\n",
        "    layer_flat = tf.reshape(layer, [-1, num_features])\n",
        "    return layer_flat, num_features"
      ]
    },
    {
      "cell_type": "code",
      "execution_count": null,
      "metadata": {
        "id": "qNr5CsRGHxTW"
      },
      "outputs": [],
      "source": [
        "def fc_layer(input,          # The previous layer.\n",
        "             num_inputs,     # Num. inputs from prev. layer.\n",
        "             num_outputs,    # Num. outputs.\n",
        "             use_relu=True): # Use Rectified Linear Unit (ReLU)?\n",
        "    weights = get_weights(shape=[num_inputs, num_outputs])\n",
        "    biases = get_biases(length=num_outputs)\n",
        "    layer = tf.matmul(input, weights) + biases\n",
        "\n",
        "    if use_relu:\n",
        "        layer = tf.nn.relu(layer)\n",
        "\n",
        "    return layer,weights\n",
        "\n",
        "def dropout_layer(layer, keep_prob):\n",
        "    layer_drop = tf.nn.dropout(layer, keep_prob)\n",
        "    return layer_drop"
      ]
    },
    {
      "cell_type": "code",
      "execution_count": null,
      "metadata": {
        "id": "WNlydARUHxTW"
      },
      "outputs": [],
      "source": [
        "img_size = 32\n",
        "num_channels = 3 \n",
        "Image_train_GS_rot_1 = Image_train_GS_rot\n",
        "image_GS_test_1 = image_GS_test"
      ]
    },
    {
      "cell_type": "code",
      "execution_count": null,
      "metadata": {
        "colab": {
          "base_uri": "https://localhost:8080/",
          "height": 266
        },
        "id": "iBtNfbq0HxTW",
        "outputId": "56647498-3281-47e2-b2f8-22022294df64"
      },
      "outputs": [
        {
          "output_type": "display_data",
          "data": {
            "text/plain": [
              "<Figure size 432x288 with 1 Axes>"
            ],
            "image/png": "[encoded data removed]"
          },
          "metadata": {
            "needs_background": "light"
          }
        }
      ],
      "source": [
        "plt.imshow(Image_train_GS_rot_1[5]+.5);"
      ]
    },
    {
      "cell_type": "code",
      "execution_count": null,
      "metadata": {
        "id": "blWIgTtUHxTW"
      },
      "outputs": [],
      "source": [
        "features = tf.placeholder(tf.float32, shape=[None, img_size, img_size,num_channels], \n",
        "                   name='features')\n",
        "\n",
        "labels_true = tf.placeholder(tf.float32,shape=[None,N_classes], name='y_true')\n",
        "\n",
        "labels_true_cls = tf.argmax(labels_true, dimension=1)\n"
      ]
    },
    {
      "cell_type": "markdown",
      "metadata": {
        "collapsed": true,
        "id": "D1Orq7FAHxTW"
      },
      "source": [
        "### Question 3\n",
        "\n",
        "_What does your final architecture look like? (Type of model, layers, sizes, connectivity, etc.)  For reference on how to build a deep neural network using TensorFlow, see [Deep Neural Network in TensorFlow\n",
        "](https://classroom.udacity.com/nanodegrees/nd013/parts/fbf77062-5703-404e-b60c-95b78b2f3f9e/modules/6df7ae49-c61c-4bb2-a23e-6527e69209ec/lessons/b516a270-8600-4f93-a0a3-20dfeabe5da6/concepts/83a3a2a2-a9bd-4b7b-95b0-eb924ab14432) from the classroom._\n"
      ]
    },
    {
      "cell_type": "markdown",
      "metadata": {
        "id": "uvlx760NHxTX"
      },
      "source": [
        "**Answer:**\n",
        "\n",
        "<img src=\"conv_net_sm.png\">\n",
        "\n",
        "Figure above shows the convolutional neural network model I used. I had a one 1X1X3 layer, this is analogous of applying an image transformation (like RGB to YUV), but instead of user defining the color transformation, a 1X1X3 convolutional network allows the neural network to choose the best color map, instead of user specifying it. The next 2 layers were 3X3X32 convolutional layers to extract low level features, I then applied 3X3 maxpooling and dropout with drop probability of 0.5. I repeated this structure two more times with number of filters 64 and 128 to identify higher level features. I took the values after dropout layers from each of the convolution block and concatenated them in a single vector. I used these features as input for training the fully connected layers. I had 2 fully connected layer units with 1024 hidden neurons followed by a dropout layer (p = 0.5) each. \n",
        "\n",
        "I tried several other architectures, I started with a simple linear model that got me 92%, I then went to a fully connected neural network that pushed the accuracy to 96%, and I finally switched to convolutional networks that gave me an test accuracy of 98.8%."
      ]
    },
    {
      "cell_type": "code",
      "execution_count": null,
      "metadata": {
        "id": "9uPvyOu5HxTX"
      },
      "outputs": [],
      "source": [
        "## Convlayer 0\n",
        "filter_size0 = 1\n",
        "num_filters0 = 3\n",
        "\n",
        "## Convlayer 1\n",
        "filter_size1 = 5\n",
        "num_filters1 = 32\n",
        "## Convlayer 2\n",
        "filter_size2 = 5\n",
        "num_filters2 = 32\n",
        "\n",
        "## Convlayer 3\n",
        "filter_size3 = 5\n",
        "num_filters3 = 64\n",
        "## Convlayer 4\n",
        "filter_size4 = 5\n",
        "num_filters4 = 64\n",
        "\n",
        "## Convlayer 5\n",
        "filter_size5 = 5\n",
        "num_filters5 = 128\n",
        "## Convlayer 6\n",
        "filter_size6 = 5\n",
        "num_filters6 = 128\n",
        "\n",
        "## FC_size \n",
        "fc_size1 = 1024\n",
        "## FC_size \n",
        "fc_size2 = 1024\n",
        "\n",
        "## Dropout\n",
        "#drop_prob = 0.5\n",
        "\n",
        "keep_prob = tf.placeholder(tf.float32)"
      ]
    },
    {
      "cell_type": "code",
      "execution_count": null,
      "metadata": {
        "colab": {
          "base_uri": "https://localhost:8080/"
        },
        "id": "aFoGNg16HxTX",
        "outputId": "71c0ca9d-2bc1-4722-bc64-7516fc1191f1"
      },
      "outputs": [
        {
          "output_type": "stream",
          "name": "stdout",
          "text": [
            "3\n",
            "Tensor(\"features_1:0\", shape=(None, 32, 32, 3), dtype=float32)\n"
          ]
        }
      ],
      "source": [
        "layer_conv0, weights_conv0 = \\\n",
        "        conv_layer(input=features,\n",
        "                   num_inp_channels=num_channels,\n",
        "                   filter_size=filter_size0,\n",
        "                   num_filters=num_filters0,\n",
        "                   use_pooling=False)\n",
        "\n",
        "layer_conv1, weights_conv1 = \\\n",
        "        conv_layer(input=layer_conv0,\n",
        "                   num_inp_channels=num_filters0,\n",
        "                   filter_size=filter_size1,\n",
        "                   num_filters=num_filters1,\n",
        "                   use_pooling=False)\n",
        "layer_conv2, weights_conv2 = \\\n",
        "        conv_layer(input=layer_conv1,\n",
        "                   num_inp_channels=num_filters1,\n",
        "                   filter_size=filter_size2,\n",
        "                   num_filters=num_filters2,\n",
        "                   use_pooling=True)\n",
        "layer_conv2_drop = dropout_layer(layer_conv2, keep_prob)\n",
        "    \n",
        "layer_conv3, weights_conv3 = \\\n",
        "        conv_layer(input=layer_conv2_drop,\n",
        "                   num_inp_channels=num_filters2,\n",
        "                   filter_size=filter_size3,\n",
        "                   num_filters=num_filters3,\n",
        "                   use_pooling=False)\n",
        "layer_conv4, weights_conv4= \\\n",
        "        conv_layer(input=layer_conv3,\n",
        "                   num_inp_channels=num_filters3,\n",
        "                   filter_size=filter_size4,\n",
        "                   num_filters=num_filters4,\n",
        "                   use_pooling=True)\n",
        "layer_conv4_drop = dropout_layer(layer_conv4, keep_prob)\n",
        "\n",
        "layer_conv5, weights_conv5 = \\\n",
        "        conv_layer(input=layer_conv4_drop,\n",
        "                   num_inp_channels=num_filters4,\n",
        "                   filter_size=filter_size5,\n",
        "                   num_filters=num_filters5,\n",
        "                   use_pooling=False)\n",
        "layer_conv6, weights_conv6 = \\\n",
        "        conv_layer(input=layer_conv5,\n",
        "                   num_inp_channels=num_filters5,\n",
        "                   filter_size=filter_size6,\n",
        "                   num_filters=num_filters6,\n",
        "                   use_pooling=True)    \n",
        "layer_conv6_drop = dropout_layer(layer_conv6, keep_prob)\n",
        "\n",
        "\n",
        "layer_flat2, num_fc_layers2 = flatten_layer(layer_conv2_drop)\n",
        "print(num_channels)\n",
        "print(features)\n",
        "layer_flat4, num_fc_layers4 = flatten_layer(layer_conv4_drop)\n",
        "\n",
        "layer_flat6, num_fc_layers6 = flatten_layer(layer_conv6_drop)\n",
        "\n",
        "\n",
        "#layer_flat = tf.concat(1, [layer_flat2, layer_flat4, layer_flat6])\n",
        "layer_flat = tf.concat( [layer_flat2, layer_flat4, layer_flat6],1)\n",
        "\n",
        "num_fc_layers = num_fc_layers2+num_fc_layers4+num_fc_layers6\n",
        "\n",
        "fc_layer1,weights_fc1 = fc_layer(layer_flat,          # The previous layer.\n",
        "             num_fc_layers,     # Num. inputs from prev. layer.\n",
        "             fc_size1,    # Num. outputs.\n",
        "             use_relu=True)\n",
        "fc_layer1_drop = dropout_layer(fc_layer1, keep_prob)\n",
        "\n",
        "fc_layer2,weights_fc2 = fc_layer(fc_layer1_drop,          # The previous layer.\n",
        "             fc_size1,     # Num. inputs from prev. layer.\n",
        "             fc_size2,    # Num. outputs.\n",
        "             use_relu=True)\n",
        "fc_layer2_drop = dropout_layer(fc_layer2, keep_prob)\n",
        "\n",
        "fc_layer3,weights_fc3 = fc_layer(fc_layer2_drop,          # The previous layer.\n",
        "             fc_size2,     # Num. inputs from prev. layer.\n",
        "             n_classes,    # Num. outputs.\n",
        "             use_relu=False)\n",
        "\n",
        "labels_pred = tf.nn.softmax(fc_layer3)\n",
        "labels_pred_cls = tf.argmax(labels_pred, dimension=1)\n",
        "\n",
        "regularizers = (tf.nn.l2_loss(weights_conv0) \n",
        "                + tf.nn.l2_loss(weights_conv1) + tf.nn.l2_loss(weights_conv2) \n",
        "                + tf.nn.l2_loss(weights_conv3) + tf.nn.l2_loss(weights_conv4) \n",
        "                + tf.nn.l2_loss(weights_conv5) + tf.nn.l2_loss(weights_conv6) \n",
        "                + tf.nn.l2_loss(weights_fc1)  + tf.nn.l2_loss(weights_fc2) +\n",
        "                tf.nn.l2_loss(weights_fc3))"
      ]
    },
    {
      "cell_type": "code",
      "execution_count": null,
      "metadata": {
        "id": "GgBKwFN5HxTX"
      },
      "outputs": [],
      "source": [
        "cross_entropy = tf.nn.softmax_cross_entropy_with_logits(logits=fc_layer3,\n",
        "                                                        labels=labels_true)"
      ]
    },
    {
      "cell_type": "code",
      "execution_count": null,
      "metadata": {
        "id": "GGY_xN5iHxTX"
      },
      "outputs": [],
      "source": [
        "cost = tf.reduce_mean(cross_entropy)+1e-5*regularizers\n"
      ]
    },
    {
      "cell_type": "code",
      "execution_count": null,
      "metadata": {
        "id": "l_iH27NXHxTY"
      },
      "outputs": [],
      "source": [
        "optimizer = tf.train.AdamOptimizer(learning_rate=1e-3).minimize(cost)\n"
      ]
    },
    {
      "cell_type": "code",
      "execution_count": null,
      "metadata": {
        "id": "j6ta8H5fHxTY"
      },
      "outputs": [],
      "source": [
        "correct_prediction = tf.equal(labels_pred_cls, labels_true_cls)\n",
        "accuracy = tf.reduce_mean(tf.cast(correct_prediction, tf.float32))"
      ]
    },
    {
      "cell_type": "code",
      "execution_count": null,
      "metadata": {
        "id": "Sido4EtuHxTY"
      },
      "outputs": [],
      "source": [
        "batch_size = 100\n"
      ]
    },
    {
      "cell_type": "code",
      "execution_count": null,
      "metadata": {
        "id": "O9XX_V9bHxTY"
      },
      "outputs": [],
      "source": [
        "def optimize(num_iterations):\n",
        "    global total_iterations\n",
        "    global best_validation_accuracy\n",
        "    global last_improvement\n",
        "    global best_test_accuracy\n",
        "    \n",
        "    global val_acc_list\n",
        "    global batch_acc_list\n",
        "    global test_acc_list\n",
        "    \n",
        "    #num_iter = np.math.floor(len(labels_train_rot)/batch_size)\n",
        "    #num_iter = min(num_iter-2,num_iterations)\n",
        "    num_iter = num_iterations\n",
        "    for i in range(num_iter):\n",
        "        total_iterations+=1\n",
        "        # Get batch for training\n",
        "        features_batch, labels_true_batch = random_batch()\n",
        "        #idx = np.arange(batch_size*i,batch_size*(i+1))\n",
        "        #features_batch = Image_GS_train_rot[idx, :,:,:]\n",
        "        #labels_true_batch = labels_train_rot[idx, :]f\n",
        "        feed_dict_batch = {features:features_batch,\n",
        "                            labels_true: labels_true_batch,\n",
        "                            keep_prob: 0.5}\n",
        "        session.run(optimizer,feed_dict = feed_dict_batch)\n",
        "        \n",
        "        if ((total_iterations % 200 == 0) or (i == (num_iter - 1))):\n",
        "            # Calculate the accuracy on the training-set.\n",
        "            acc_batch = session.run(accuracy, feed_dict=feed_dict_batch)\n",
        "            acc_valid = session.run(accuracy,feed_dict=feed_dict_valid)\n",
        "            val_acc_list.append(acc_valid)\n",
        "            batch_acc_list.append(acc_batch)\n",
        "            if acc_valid > best_validation_accuracy:\n",
        "                best_validation_accuracy = acc_valid\n",
        "                last_improvement = total_iterations\n",
        "                improved_str = '*'\n",
        "                saver = tf.train.Saver()\n",
        "                saver.save(sess=session, save_path='model_best_batch')\n",
        "            else:\n",
        "                improved_str = ''\n",
        "            \n",
        "            if total_iterations - last_improvement > require_improvement:\n",
        "                print(\"No improvement found in a while, stopping optimization.\")\n",
        "                break\n",
        "\n",
        "            # Message for printing.\n",
        "            if ((total_iterations % 5000 == 0) or (i == (num_iter - 1))):\n",
        "                msg = \"# {0:>6}, Train Acc.: {1:>6.1%}, Val Acc.: {2:>6.1%}, Test Acc.: {3:>6.1%}\"\n",
        "                acc_test = session.run(accuracy,feed_dict=feed_dict_test)\n",
        "                \n",
        "                if best_test_accuracy<acc_test:\n",
        "                    saver = tf.train.Saver()\n",
        "                    saver.save(sess=session, save_path='model_best_test')\n",
        "                    best_test_accuracy = acc_test\n",
        "                    #print_accuracy()\n",
        "                # Print it.\n",
        "                print(msg.format(i+1, acc_batch,acc_valid,\n",
        "                                     acc_test))\n",
        "                       "
      ]
    },
    {
      "cell_type": "markdown",
      "metadata": {
        "id": "9FS6kK4eHxTY"
      },
      "source": [
        "### Question 4\n",
        "\n",
        "_How did you train your model? (Type of optimizer, batch size, epochs, hyperparameters, etc.)_"
      ]
    },
    {
      "cell_type": "markdown",
      "metadata": {
        "id": "D_a24bvxHxTY"
      },
      "source": [
        "**Answer:**\n",
        "    \n",
        "1. *** Hyperparameters***: I chose a learning rate of 1e-3, batch size of 256 and a L-2 regularization on weights of \\\\( 10^{-5} \\\\) to avoid overfitting, and ran optimization for a total of 22 epochs. \n",
        "2. *** Training/validation data***: I generated tranformed data using the technique described in question 1. However, I reduced the augmentation of images as training progressed. The main idea was to provide very noisy data so the neural network can first learn coarse features, and then reduced augmentation to learn finer features. I performed large image augmentations in the initial 4 epochs, and in the next 18 epochs, I reduced augmentation parameters by a factor of 0.9 per epoch. \n",
        "3. *** Epochs ***: I ran a total of 22 epochs for training the neural network. In each epoch, I trained the model for 20000 iterations in the first 4 epochs, but for 10000 in the following 18 iterations. \n",
        "3. *** Stopping conditions ***: I used accuracy of validation data as a criteria to monitor if model was overfitting. In the first 4 epochs, I did not use early stopping in the first 4 epochs. But after the first 4 epochs, I stopped training if the validation score didnt improve for 1000 consecutive iterations. \n",
        "\n",
        "4. *** Optimization ***: I used adamoptimizer with default settings for optimization. The optimization process itself took about 4 hours. \n",
        "\n"
      ]
    },
    {
      "cell_type": "code",
      "execution_count": null,
      "metadata": {
        "id": "aoDvSw04HxTY"
      },
      "outputs": [],
      "source": [
        "def print_accuracy():\n",
        "    acc = session.run(accuracy,feed_dict=feed_dict_test)\n",
        "    print(\"Accuracy on test set: {0:>6.1%}\".format(acc))\n",
        "    \n",
        "def print_confusion_matrix():\n",
        "    labels_cls_pred = session.run(labels_pred_cls,feed_dict=feed_dict_test)\n",
        "    cm = confusion_matrix(y_true = y_test,y_pred = labels_cls_pred)\n",
        "    print(cm)\n",
        "    plt.imshow(cm, interpolation='nearest', cmap=plt.cm.Blues)\n",
        "\n",
        "    # Make various adjustments to the plot.\n",
        "    plt.tight_layout()\n",
        "    plt.colorbar()\n",
        "    tick_marks = np.arange(N_classes)\n",
        "    plt.xticks(tick_marks, range(N_classes))\n",
        "    plt.yticks(tick_marks, range(N_classes))\n",
        "    plt.xlabel('Predicted')\n",
        "    plt.ylabel('True')\n",
        "    \n",
        "def plot_error_examples():\n",
        "    correct,labels_cls_pred = session.run([correct_prediction,labels_pred_cls],\n",
        "                                          feed_dict=feed_dict_test)\n",
        "    incorrect = (correct == False)\n",
        "    X_incorrect = X_test[incorrect]\n",
        "    y_incorrect = y_test[incorrect]\n",
        "    y_pred = labels_cls_pred[incorrect]\n",
        "    \n",
        "    plot_random_3C(3,3,X_incorrect,y_incorrect)\n",
        "\n",
        "def plot_weights():\n",
        "    # Get the values for the weights from the TensorFlow variable.\n",
        "    w = session.run(weights)\n",
        "    \n",
        "    # Get the lowest and highest values for the weights.\n",
        "    # This is used to correct the colour intensity across\n",
        "    # the images so they can be compared with each other.\n",
        "    w_min = np.min(w)\n",
        "    w_max = np.max(w)\n",
        "\n",
        "    # Create figure with 3x4 sub-plots,\n",
        "    # where the last 2 sub-plots are unused.\n",
        "    fig, axes = plt.subplots(3, 4)\n",
        "    fig.subplots_adjust(hspace=0.3, wspace=0.3)\n",
        "\n",
        "    for i, ax in enumerate(axes.flat):\n",
        "        # Only use the weights for the first 10 sub-plots.\n",
        "        if i<13:\n",
        "            # Get the weights for the i'th digit and reshape it.\n",
        "            # Note that w.shape == (img_size_flat, 10)\n",
        "            image = w[:, i].reshape(image_shape)\n",
        "\n",
        "            # Set the label for the sub-plot.\n",
        "            ax.set_xlabel(\"Weights: {0}\".format(i))\n",
        "\n",
        "            # Plot the image.\n",
        "            ax.imshow(image, vmin=w_min, vmax=w_max, cmap='seismic')\n",
        "\n",
        "        # Remove ticks from each sub-plot.\n",
        "        ax.set_xticks([])\n",
        "        ax.set_yticks([])"
      ]
    },
    {
      "cell_type": "code",
      "execution_count": null,
      "metadata": {
        "id": "TnzQphezHxTY"
      },
      "outputs": [],
      "source": [
        "feed_dict_test = {features: image_GS_test_1,\n",
        "                 labels_true: labels_test,\n",
        "                 labels_true_cls:y_test,\n",
        "                 keep_prob:1.0}"
      ]
    },
    {
      "cell_type": "code",
      "execution_count": null,
      "metadata": {
        "id": "IRCb4tkpHxTZ"
      },
      "outputs": [],
      "source": [
        "session = tf.Session()\n",
        "#session.run(tf.initialize_all_variables())\n",
        "session.run(tf.global_variables_initializer())\n",
        "\n"
      ]
    },
    {
      "cell_type": "code",
      "execution_count": null,
      "metadata": {
        "colab": {
          "base_uri": "https://localhost:8080/"
        },
        "id": "bbvDFambHxTZ",
        "outputId": "65112803-303e-4c27-b7ba-0fda92a20f90"
      },
      "outputs": [
        {
          "output_type": "stream",
          "name": "stdout",
          "text": [
            "Accuracy on test set:   3.8%\n"
          ]
        }
      ],
      "source": [
        "print_accuracy()"
      ]
    },
    {
      "cell_type": "code",
      "execution_count": null,
      "metadata": {
        "id": "qHnrND6THxTZ"
      },
      "outputs": [],
      "source": [
        "val_acc_list = []\n",
        "batch_acc_list = []\n",
        "train_acc_list = []"
      ]
    },
    {
      "cell_type": "code",
      "execution_count": null,
      "metadata": {
        "id": "PuNS9oaVHxTZ"
      },
      "outputs": [],
      "source": [
        "batch_size = 100\n"
      ]
    },
    {
      "cell_type": "code",
      "execution_count": null,
      "metadata": {
        "id": "w1C3LjrnHxTZ"
      },
      "outputs": [],
      "source": [
        "import time\n"
      ]
    },
    {
      "cell_type": "code",
      "execution_count": null,
      "metadata": {
        "colab": {
          "base_uri": "https://localhost:8080/"
        },
        "id": "JcnL8rheJK62",
        "outputId": "1483cf59-1f83-40da-eb7d-7b09cae5ac21"
      },
      "outputs": [
        {
          "output_type": "stream",
          "name": "stdout",
          "text": [
            "0.9872478257542912\n"
          ]
        }
      ],
      "source": [
        "print((len(X_train)-500)/len(X_train))"
      ]
    },
    {
      "cell_type": "code",
      "execution_count": null,
      "metadata": {
        "colab": {
          "base_uri": "https://localhost:8080/"
        },
        "id": "B4Bi-x1IHxTZ",
        "scrolled": false,
        "outputId": "c48ac463-382e-4c9f-b381-f53f853fd56d"
      },
      "outputs": [
        {
          "output_type": "stream",
          "name": "stdout",
          "text": [
            "Optimization Loop # 0\n",
            "#   5000, Train Acc.:  97.0%, Val Acc.:  99.1%, Test Acc.:  95.1%\n",
            "#  10000, Train Acc.:  96.0%, Val Acc.:  99.3%, Test Acc.:  95.8%\n"
          ]
        }
      ],
      "source": [
        "start_time = time.time()\n",
        "total_iterations = 0\n",
        "require_improvement = 5000\n",
        "ang_rot = 10\n",
        "trans_rot = 2\n",
        "shear_rot = 2\n",
        "n_opt = 40000\n",
        "best_test_accuracy = 0.0\n",
        "testsize = (len(X_train)-25000)/len(X_train)    \n",
        "for i_train in range(1):\n",
        "    best_validation_accuracy = 0.0\n",
        "    last_improvement = 0\n",
        "\n",
        "    #Image_train_GS_rot,y_train_rot,labels_train_rot = gen_transformed_data(X_train,y_train,43,5000,30,5,5,1)\n",
        "    \n",
        "    \n",
        "    if i_train>-1:\n",
        "        ang_rot = 10*0.9**(i_train)\n",
        "        trans_rot = 2*0.9**(i_train)\n",
        "        shear_rot = 2*0.9**(i_train)\n",
        "        require_improvement = 5000\n",
        "        n_opt = 10000\n",
        "        \n",
        "\n",
        "        \n",
        "        \n",
        "    X_train_SS, X_valid_SS, y_train_SS , y_valid_SS = \\\n",
        "                                train_test_split(X_train,\n",
        "                                                 y_train,\n",
        "                                                 test_size=testsize ,\n",
        "                                                 random_state=22)\n",
        "    labels_valid_SS = OHE_labels(y_valid_SS,43)\n",
        "    image_GS_valid = np.array([pre_process_image(X_valid_SS[i]) for i in range(len(X_valid_SS))],\n",
        "                          dtype = np.float32)\n",
        "    #image_GS_valid = np.reshape(image_GS_valid,(-1,32,32,1))\n",
        "    \n",
        "    feed_dict_valid = {features: image_GS_valid,\n",
        "                 labels_true: labels_valid_SS,\n",
        "                 labels_true_cls:y_valid_SS,\n",
        "                 keep_prob:1.0}\n",
        "\n",
        "    Image_train_GS_rot,y_train_rot,labels_train_rot = gen_extra_data(X_train_SS,y_train_SS,43,5,\n",
        "                                                                     ang_rot,trans_rot,shear_rot,1)\n",
        "    print('Optimization Loop # '+str(i_train))    \n",
        "    Image_train_GS_rot_1 = Image_train_GS_rot \n",
        "    #np.reshape(Image_train_GS_rot,(-1,32,32,1))\n",
        "    #\n",
        "    optimize(n_opt)\n",
        "    #print_accuracy()\n",
        "    \n",
        "    \n",
        "end_time = time.time()\n",
        "\n",
        "time_diff = end_time-start_time"
      ]
    },
    {
      "cell_type": "code",
      "execution_count": null,
      "metadata": {
        "id": "WBEvGTKBHxTZ",
        "colab": {
          "base_uri": "https://localhost:8080/"
        },
        "outputId": "685eab50-6574-4063-b118-e6c30a59df84"
      },
      "outputs": [
        {
          "output_type": "execute_result",
          "data": {
            "text/plain": [
              "426.4035232067108"
            ]
          },
          "metadata": {},
          "execution_count": 113
        }
      ],
      "source": [
        "time_diff"
      ]
    },
    {
      "cell_type": "code",
      "execution_count": null,
      "metadata": {
        "id": "OT8eELD6HxTa",
        "colab": {
          "base_uri": "https://localhost:8080/",
          "height": 287
        },
        "outputId": "d6c2a758-2299-4b38-c4eb-3dc327a67f2d"
      },
      "outputs": [
        {
          "output_type": "execute_result",
          "data": {
            "text/plain": [
              "(0.0, 800.0)"
            ]
          },
          "metadata": {},
          "execution_count": 114
        },
        {
          "output_type": "display_data",
          "data": {
            "text/plain": [
              "<Figure size 432x288 with 1 Axes>"
            ],
            "image/png": "[encoded data removed]"
          },
          "metadata": {
            "needs_background": "light"
          }
        }
      ],
      "source": [
        "plt.plot(batch_acc_list)\n",
        "plt.plot(val_acc_list)\n",
        "plt.ylim(.25,1.1)\n",
        "plt.xlim(0,800)"
      ]
    },
    {
      "cell_type": "markdown",
      "metadata": {
        "id": "Q0M59M6NHxTa"
      },
      "source": [
        "### Question 5\n",
        "\n",
        "_What approach did you take in coming up with a solution to this problem?_"
      ]
    },
    {
      "cell_type": "markdown",
      "metadata": {
        "id": "Ss_2cIH4HxTa"
      },
      "source": [
        "** Answer **\n",
        "\n",
        "I researched various image identification algorithms developed by researchers. I experimented with different type of models. I experimented with linear, fully connected network, convolutional layer and inception models. However, the convolutional networks gave the best mix of accuracy and speed of training. The final model I came up with is,\n",
        "\n",
        "<img src=\"conv_net_sm.png\">"
      ]
    },
    {
      "cell_type": "markdown",
      "metadata": {
        "id": "aWQXUDpdHxTa"
      },
      "source": [
        "---\n",
        "\n",
        "## Step 3: Test a Model on New Images\n",
        "\n",
        "Take several pictures of traffic signs that you find on the web or around you (at least five), and run them through your classifier on your computer to produce example results. The classifier might not recognize some local signs but it could prove interesting nonetheless.\n",
        "\n",
        "You may find `signnames.csv` useful as it contains mappings from the class id (integer) to the actual sign name."
      ]
    },
    {
      "cell_type": "markdown",
      "metadata": {
        "id": "vg-P1DGyHxTa"
      },
      "source": [
        "### Implementation\n",
        "\n",
        "Use the code cell (or multiple code cells, if necessary) to implement the first step of your project. Once you have completed your implementation and are satisfied with the results, be sure to thoroughly answer the questions that follow."
      ]
    },
    {
      "cell_type": "code",
      "execution_count": null,
      "metadata": {
        "id": "zCNdnAAsHxTa"
      },
      "outputs": [],
      "source": [
        "saver = tf.train.Saver()\n",
        "saver.restore(sess=session, save_path='model_best_test')"
      ]
    },
    {
      "cell_type": "code",
      "execution_count": null,
      "metadata": {
        "id": "nC6RdiNFHxTa",
        "colab": {
          "base_uri": "https://localhost:8080/"
        },
        "outputId": "b78f4e04-4913-4eac-b5a5-992049f20b0e"
      },
      "outputs": [
        {
          "output_type": "stream",
          "name": "stdout",
          "text": [
            "Accuracy on test set:  95.8%\n"
          ]
        }
      ],
      "source": [
        "print_accuracy()"
      ]
    },
    {
      "cell_type": "code",
      "execution_count": null,
      "metadata": {
        "id": "BGoL0gyqkl7X",
        "colab": {
          "base_uri": "https://localhost:8080/"
        },
        "outputId": "87ae7b49-17a7-4d79-9cc3-6c9843be4cd0"
      },
      "outputs": [
        {
          "output_type": "stream",
          "name": "stdout",
          "text": [
            "25000.0\n"
          ]
        }
      ],
      "source": [
        "print((1-testsize)*len(X_train))"
      ]
    },
    {
      "cell_type": "code",
      "execution_count": null,
      "metadata": {
        "id": "tB75bs_DHxTa"
      },
      "outputs": [],
      "source": [
        "def process_newimage_file(name):\n",
        "    image = cv2.imread(name)\n",
        "    image = cv2.resize(image,(32,32))\n",
        "    image = cv2.cvtColor(image,cv2.COLOR_BGR2RGB)\n",
        "    image = image/255.-.5\n",
        "    return image\n",
        "\n",
        "def plot_newImage_3C(n_row,n_col,X):\n",
        "\n",
        "    plt.figure(figsize = (18,6))\n",
        "    gs1 = gridspec.GridSpec(n_row,n_row)\n",
        "    gs1.update(wspace=0.01, hspace=0.02) # set the spacing between axes. \n",
        "\n",
        "    for i in range(n_row*n_col):\n",
        "        # i = i + 1 # grid spec indexes from 0\n",
        "        ax1 = plt.subplot(gs1[i])\n",
        "        plt.axis('on')\n",
        "        ax1.set_xticklabels([])\n",
        "        ax1.set_yticklabels([])\n",
        "        ax1.set_aspect('equal')\n",
        "        #plt.subplot(4,11,i+1)\n",
        "        ind_plot = i\n",
        "        plt.imshow(X[ind_plot])\n",
        "        plt.axis('off')\n",
        "    plt.show()"
      ]
    },
    {
      "cell_type": "code",
      "execution_count": null,
      "metadata": {
        "id": "du1es3izGFfA",
        "colab": {
          "base_uri": "https://localhost:8080/"
        },
        "outputId": "550cdb62-b129-4790-d992-9c9a54911af7"
      },
      "outputs": [
        {
          "output_type": "stream",
          "name": "stdout",
          "text": [
            "[0. 0. 0. 0. 0. 0. 0. 0. 0. 0. 0. 0. 0. 0. 1. 0. 0. 0. 0. 0. 0. 0. 0. 0.\n",
            " 0. 0. 0. 0. 0. 0. 0. 0. 0. 0. 0. 0. 0. 0. 0. 0. 0. 0. 0.]\n"
          ]
        }
      ],
      "source": [
        "import glob\n",
        "import os, fnmatch\n",
        "\n",
        "source_path_subtle  = \"/content/drive/MyDrive/p2-TrafficSigns-master (1)/Attack/subtle/*.jpg\"\n",
        "newdata_subtle = [process_newimage_file(name) for name in sorted(glob.iglob(source_path_subtle, recursive=True))]\n",
        "newdata_subtle = np.array(newdata_subtle )\n",
        "labels_subtle_cls = np.ones(len(newdata_subtle))*14\n",
        "labels_subtle = OHE_labels(labels_subtle_cls,43)\n",
        "\n",
        "\n",
        "source_path_Love  = \"/content/drive/MyDrive/p2-TrafficSigns-master (1)/Attack/Love/*.png\"\n",
        "newdata_Love = [process_newimage_file(name) for name in sorted(glob.iglob(source_path_Love, recursive=True))]\n",
        "newdata_Love = np.array(newdata_Love)\n",
        "labels_Love_cls = np.ones(len(newdata_Love))*14\n",
        "labels_Love = OHE_labels(labels_Love_cls,43)\n",
        "\n",
        "print(labels_Love[1])\n",
        "\n",
        "\n",
        "source_path_Art  = \"/content/drive/MyDrive/p2-TrafficSigns-master (1)/Attack/Art/*.jpg\"\n",
        "newdata_Art = [process_newimage_file(name) for name in sorted(glob.iglob(source_path_Art, recursive=True))]\n",
        "newdata_Art = np.array(newdata_Art)\n",
        "labels_Art_cls  = np.ones(len(newdata_Art))*14\n",
        "labels_Art = OHE_labels(labels_Art_cls,43)\n",
        "\n",
        "source_path_Advcam  = \"/content/drive/MyDrive/p2-TrafficSigns-master (1)/Attack/Advcam/*.png\"\n",
        "newdata_Advcam = [process_newimage_file(name) for name in sorted(glob.iglob(source_path_Advcam, recursive=True))]\n",
        "newdata_Advcam = np.array(newdata_Advcam)\n",
        "labels_Advcam_cls= np.ones(len(newdata_Advcam))*14\n",
        "labels_Advcam = OHE_labels(labels_Advcam_cls,43)\n",
        "\n",
        "source_path_Base  = \"/content/drive/MyDrive/p2-TrafficSigns-master (1)/Attack/Base/*.jpeg\"\n",
        "newdata_Base = [process_newimage_file(name) for name in sorted(glob.iglob(source_path_Base, recursive=True))]\n",
        "newdata_Base = np.array(newdata_Base )\n",
        "labels_Base_cls = np.ones(len(newdata_Base))*14\n",
        "labels_Base = OHE_labels(labels_Base_cls,43)\n",
        "\n",
        "\n",
        "feed_dict_Base = {features: newdata_Base,\n",
        "                 labels_true: labels_Base,\n",
        "                 labels_true_cls:labels_Base_cls,\n",
        "                 keep_prob:1.0}\n",
        "\n",
        "feed_dict_subtle = {features: newdata_subtle,\n",
        "                 labels_true: labels_subtle,\n",
        "                 labels_true_cls:labels_subtle_cls,\n",
        "                 keep_prob:1.0}\n",
        "feed_dict_Love = {features: newdata_Love,\n",
        "                  labels_true_cls: labels_Love_cls,\n",
        "                  labels_true: labels_Love,\n",
        "                  keep_prob:1.0}\n",
        "feed_dict_Advcam = {features: newdata_Advcam,\n",
        "                  labels_true_cls: labels_Advcam_cls,\n",
        "                  labels_true: labels_Advcam,\n",
        "                  keep_prob:1.0}\n",
        "feed_dict_Art = {features: newdata_Art,\n",
        "                  labels_true_cls: labels_Art_cls,\n",
        "                  labels_true: labels_Art,\n",
        "                  keep_prob:1.0}                  "
      ]
    },
    {
      "cell_type": "code",
      "execution_count": null,
      "metadata": {
        "id": "xYAypixfGRQD",
        "colab": {
          "base_uri": "https://localhost:8080/"
        },
        "outputId": "2e99ab01-d681-4e59-b707-26e4cd08be81"
      },
      "outputs": [
        {
          "output_type": "stream",
          "name": "stdout",
          "text": [
            "trainsize, 25000\n",
            "test acc:, 0.95787805\n",
            "acc_subtle:, 0.2\n",
            "acc_Love, 0.0\n",
            "acc_Advcam, 1.0\n",
            "acc_Art:, 0.0\n",
            "acc_Base:, 1.0\n"
          ]
        }
      ],
      "source": [
        "acc        = session.run(accuracy,feed_dict=feed_dict_test)\n",
        "acc_subtle = session.run(accuracy,feed_dict=feed_dict_subtle)\n",
        "acc_Love   = session.run(accuracy,feed_dict=feed_dict_Love)\n",
        "acc_Advcam = session.run(accuracy,feed_dict=feed_dict_Advcam)\n",
        "acc_Art    = session.run(accuracy,feed_dict=feed_dict_Art)\n",
        "acc_Base    = session.run(accuracy,feed_dict=feed_dict_Base)\n",
        "\n",
        "\n",
        "train_size=round((1-testsize)*len(y_train))\n",
        "print('trainsize,', train_size)\n",
        "print('test acc:,', acc)\n",
        "print('acc_subtle:,', acc_subtle)\n",
        "print('acc_Love,', acc_Love)\n",
        "print('acc_Advcam,', acc_Advcam)\n",
        "print('acc_Art:,', acc_Art)\n",
        "print('acc_Base:,', acc_Base)"
      ]
    },
    {
      "cell_type": "code",
      "execution_count": null,
      "metadata": {
        "id": "eO1kGeRdHxTb"
      },
      "outputs": [],
      "source": [
        "import glob\n",
        "#source_path = \"./Sign/*.png\"\n",
        "#source_path = \"./cropped/*.jpg\"\n",
        "#source_path = \"./subtle/*.jpg\"\n",
        "#source_path = \"./lovehate/*.png\"\n",
        "source_path = \"./stains/*.png\"\n",
        "\n",
        "#source_path = \"./Normaltest/*\"\n",
        "\n",
        "path = \"./stains/\"\n",
        "\n",
        "#newdata = [process_newimage_file(\"./new_signs/\"+name) for name in os.listdir(\"./new_signs/\")]\n",
        "newdata = [process_newimage_file(name) for name in sorted(glob.iglob(source_path, recursive=True))]\n",
        "\n",
        "namenewdata = [name for name in os.listdir(path)]\n",
        "newdata = np.array(newdata ,dtype = np.float32)"
      ]
    },
    {
      "cell_type": "code",
      "execution_count": null,
      "metadata": {
        "id": "Ara-HGLVHxTb",
        "colab": {
          "base_uri": "https://localhost:8080/",
          "height": 84
        },
        "outputId": "0559f56f-4594-4a5f-c351-0f57f8044d6f"
      },
      "outputs": [
        {
          "output_type": "display_data",
          "data": {
            "text/plain": [
              "<Figure size 1296x432 with 6 Axes>"
            ],
            "image/png": "[encoded data removed]"
          },
          "metadata": {
            "needs_background": "light"
          }
        }
      ],
      "source": [
        "plot_newImage_3C(6,1,newdata+.5)"
      ]
    },
    {
      "cell_type": "markdown",
      "metadata": {
        "collapsed": true,
        "id": "9Y8gCTWNHxTb"
      },
      "source": [
        "### Question 6\n",
        "\n",
        "_Choose five candidate images of traffic signs and provide them in the report. Are there any particular qualities of the image(s) that might make classification difficult? It would be helpful to plot the images in the notebook._\n"
      ]
    },
    {
      "cell_type": "markdown",
      "metadata": {
        "collapsed": true,
        "id": "aaLWSvNtHxTb"
      },
      "source": [
        "**Answer:**"
      ]
    },
    {
      "cell_type": "markdown",
      "metadata": {
        "collapsed": true,
        "id": "W2EAd3K1HxTb"
      },
      "source": [
        "Images above present 25 images I downloaded from internet. I expect the neural network to perform well on signs that are similar between german and US roads. However, some signs such as US highways and interstates may not be in the german data set, so I expect predictions for those images to be wrong. "
      ]
    },
    {
      "cell_type": "code",
      "execution_count": null,
      "metadata": {
        "id": "jkaLuuknHxTb"
      },
      "outputs": [],
      "source": [
        "#labels_pred = tf.nn.softmax(fc_layer3)\n",
        "feed_dict_new = feed_dict_Art\n",
        "top5 = tf.nn.top_k(labels_pred, 5)\n",
        "top1 = tf.nn.top_k(labels_pred, 1)\n",
        "\n",
        "\n",
        "predictions = session.run(labels_pred,feed_dict = feed_dict_new)\n",
        "top5_pred = session.run([labels_pred, top5], feed_dict=feed_dict_new)\n",
        "top1_pred = session.run([labels_pred, top1], feed_dict=feed_dict_new)"
      ]
    },
    {
      "cell_type": "code",
      "execution_count": null,
      "metadata": {
        "id": "D25PHzwTHxTb",
        "colab": {
          "base_uri": "https://localhost:8080/",
          "height": 694
        },
        "outputId": "38d4d6f9-b3e6-45c6-8810-42783fc704a9"
      },
      "outputs": [
        {
          "output_type": "stream",
          "name": "stdout",
          "text": [
            "1\n"
          ]
        },
        {
          "output_type": "display_data",
          "data": {
            "text/plain": [
              "<Figure size 360x108 with 2 Axes>"
            ],
            "image/png": "[encoded data removed]"
          },
          "metadata": {
            "needs_background": "light"
          }
        },
        {
          "output_type": "stream",
          "name": "stdout",
          "text": [
            "2\n"
          ]
        },
        {
          "output_type": "display_data",
          "data": {
            "text/plain": [
              "<Figure size 360x108 with 2 Axes>"
            ],
            "image/png": "[encoded data removed]"
          },
          "metadata": {
            "needs_background": "light"
          }
        },
        {
          "output_type": "stream",
          "name": "stdout",
          "text": [
            "3\n"
          ]
        },
        {
          "output_type": "display_data",
          "data": {
            "text/plain": [
              "<Figure size 360x108 with 2 Axes>"
            ],
            "image/png": "[encoded data removed]"
          },
          "metadata": {
            "needs_background": "light"
          }
        },
        {
          "output_type": "stream",
          "name": "stdout",
          "text": [
            "4\n"
          ]
        },
        {
          "output_type": "display_data",
          "data": {
            "text/plain": [
              "<Figure size 360x108 with 2 Axes>"
            ],
            "image/png": "[encoded data removed]"
          },
          "metadata": {
            "needs_background": "light"
          }
        },
        {
          "output_type": "stream",
          "name": "stdout",
          "text": [
            "5\n"
          ]
        },
        {
          "output_type": "display_data",
          "data": {
            "text/plain": [
              "<Figure size 360x108 with 2 Axes>"
            ],
            "image/png": "[encoded data removed]"
          },
          "metadata": {
            "needs_background": "light"
          }
        },
        {
          "output_type": "stream",
          "name": "stdout",
          "text": [
            "6\n"
          ]
        },
        {
          "output_type": "display_data",
          "data": {
            "text/plain": [
              "<Figure size 360x108 with 2 Axes>"
            ],
            "image/png": "[encoded data removed]"
          },
          "metadata": {
            "needs_background": "light"
          }
        }
      ],
      "source": [
        "Newname = [1,2,3,4,5,6]\n",
        "import matplotlib\n",
        "matplotlib.rcParams['pdf.fonttype'] = 42\n",
        "matplotlib.rcParams['ps.fonttype'] = 42\n",
        "\n",
        "for i in range(6):\n",
        "  fig = plt.figure(figsize = (5,1.5))\n",
        "\n",
        "  #plt.figure(figsize = (5,1.5))\n",
        "  gs = gridspec.GridSpec(1, 2,width_ratios=[2,3])\n",
        "  plt.subplot(gs[0])\n",
        "  plt.imshow(newdata_Art[i+9]+.5)\n",
        "  plt.axis('off')\n",
        "  plt.subplot(gs[1])\n",
        "  plt.barh(6-np.arange(5),top5_pred[1][0][i], align='center')\n",
        "  for i_label in range(5):\n",
        "      plt.text(top5_pred[1][0][i][i_label]+.02,6-i_label-.25,\n",
        "          data_pd['SignName'][top5_pred[1][1][i][i_label]])\n",
        "  plt.axis('off');\n",
        "  #plt.text(0,6.95,namenewdata[i].split('.')[0]);\n",
        "  name =Newname[i]\n",
        "  print(name)\n",
        "  fig.savefig('Art.eps', format='eps', dpi=300, bbox_inches='tight')\n",
        "  plt.show();\n"
      ]
    },
    {
      "cell_type": "markdown",
      "metadata": {
        "id": "bgcKfh-YHxTb"
      },
      "source": [
        "### Question 7\n",
        "\n",
        "_Is your model able to perform equally well on captured pictures or a live camera stream when compared to testing on the dataset?_"
      ]
    },
    {
      "cell_type": "markdown",
      "metadata": {
        "id": "plbWBFcEHxTb"
      },
      "source": [
        "** Answer: **\n",
        "    \n",
        "The model performed poorely on US sign data. It performed well on signs that look like the signs in Germany (like stop, do not enter, etc). However, for signs that are significantly different from those seen in the training data set, generalization is poor. "
      ]
    },
    {
      "cell_type": "markdown",
      "metadata": {
        "id": "VtJPerOZHxTb"
      },
      "source": [
        "### Question 8\n",
        "\n",
        "*Use the model's softmax probabilities to visualize the **certainty** of its predictions, [`tf.nn.top_k`](https://www.tensorflow.org/versions/r0.11/api_docs/python/nn.html#top_k) could prove helpful here. Which predictions is the model certain of? Uncertain? If the model was incorrect in its initial prediction, does the correct prediction appear in the top k? (k should be 5 at most)*"
      ]
    },
    {
      "cell_type": "markdown",
      "metadata": {
        "id": "1t_N605EHxTc"
      },
      "source": [
        "** Answer: **\n",
        "\n",
        "The model is most certain of signs that are similar to signs in the training set (i.e. similar in Germany and USA). The model is very inaccurate for signs that are not similar to the signs in Germany. "
      ]
    },
    {
      "cell_type": "markdown",
      "metadata": {
        "id": "CTybkjitHxTc"
      },
      "source": [
        "### Question 9\n",
        "_If necessary, provide documentation for how an interface was built for your model to load and classify newly-acquired images._\n",
        "\n",
        "**Answer:**\n",
        "\n",
        "I did not deploy the classification algorithm as a separate program. I stored the model structure and model weights, and recalled the weights to test predictions on new images. However, a good way to test new images is to develop a simple Flask application that stores the weights and model structures, take in camera image as input and returns predictions based on neural network model. I did not test this in real system. "
      ]
    },
    {
      "cell_type": "code",
      "execution_count": null,
      "metadata": {
        "id": "57noTItVHxTc"
      },
      "outputs": [],
      "source": []
    }
  ],
  "metadata": {
    "accelerator": "GPU",
    "anaconda-cloud": {},
    "colab": {
      "provenance": []
    },
    "gpuClass": "standard",
    "kernelspec": {
      "display_name": "Python 3 (ipykernel)",
      "language": "python",
      "name": "python3"
    },
    "language_info": {
      "codemirror_mode": {
        "name": "ipython",
        "version": 3
      },
      "file_extension": ".py",
      "mimetype": "text/x-python",
      "name": "python",
      "nbconvert_exporter": "python",
      "pygments_lexer": "ipython3",
      "version": "3.10.6"
    }
  },
  "nbformat": 4,
  "nbformat_minor": 0
}