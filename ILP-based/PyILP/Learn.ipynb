{
 "cells": [
  {
   "cell_type": "code",
   "execution_count": 2,
   "id": "b9dfccd7",
   "metadata": {},
   "outputs": [
    {
     "ename": "ModuleNotFoundError",
     "evalue": "No module named 'pyswip'",
     "output_type": "error",
     "traceback": [
      "\u001b[0;31m---------------------------------------------------------------------------\u001b[0m",
      "\u001b[0;31mModuleNotFoundError\u001b[0m                       Traceback (most recent call last)",
      "Input \u001b[0;32mIn [2]\u001b[0m, in \u001b[0;36m<cell line: 3>\u001b[0;34m()\u001b[0m\n\u001b[1;32m      1\u001b[0m \u001b[38;5;66;03m##import sys\u001b[39;00m\n\u001b[1;32m      2\u001b[0m \u001b[38;5;66;03m#sys.path.insert(0, 'PyILP/PyILP')\u001b[39;00m\n\u001b[0;32m----> 3\u001b[0m \u001b[38;5;28;01mfrom\u001b[39;00m \u001b[38;5;21;01mPyILP\u001b[39;00m \u001b[38;5;28;01mimport\u001b[39;00m \u001b[38;5;241m*\u001b[39m\n",
      "File \u001b[0;32m~/Library/CloudStorage/OneDrive-UniversityofSurrey/Experiments/Experiment7/PYILP/PyILP.py:2\u001b[0m, in \u001b[0;36m<module>\u001b[0;34m\u001b[0m\n\u001b[1;32m      1\u001b[0m \u001b[38;5;28;01mimport\u001b[39;00m \u001b[38;5;21;01mnumpy\u001b[39;00m \u001b[38;5;28;01mas\u001b[39;00m \u001b[38;5;21;01mnp\u001b[39;00m\n\u001b[0;32m----> 2\u001b[0m \u001b[38;5;28;01mfrom\u001b[39;00m \u001b[38;5;21;01mpyswip\u001b[39;00m \u001b[38;5;28;01mimport\u001b[39;00m \u001b[38;5;241m*\u001b[39m\n\u001b[1;32m      3\u001b[0m \u001b[38;5;28;01mfrom\u001b[39;00m \u001b[38;5;21;01mpyswip\u001b[39;00m \u001b[38;5;28;01mimport\u001b[39;00m Prolog\n\u001b[1;32m      4\u001b[0m \u001b[38;5;28;01mimport\u001b[39;00m \u001b[38;5;21;01mshutil\u001b[39;00m\n",
      "\u001b[0;31mModuleNotFoundError\u001b[0m: No module named 'pyswip'"
     ]
    }
   ],
   "source": [
    "##import sys\n",
    "#sys.path.insert(0, 'PyILP/PyILP')\n",
    "from PyILP import *\n",
    "#/home/dany/Documents/Academic_Data/Experiments/PyILP/PyILP"
   ]
  },
  {
   "cell_type": "code",
   "execution_count": null,
   "id": "77ed6b33",
   "metadata": {
    "scrolled": true
   },
   "outputs": [],
   "source": [
    "\n",
    "\n",
    "\n",
    "model_aleph =aleph_learn(file=\"BK.pl\", \n",
    "            test_size=0.33, \n",
    "            positive_example=\"pos_example.f\", \n",
    "            negative_example=\"neg_example.n\", \n",
    "            shuffle=True, \n",
    "            settings=\"modes_aleph.pl\")"
   ]
  },
  {
   "cell_type": "code",
   "execution_count": null,
   "id": "883e5f90",
   "metadata": {},
   "outputs": [],
   "source": [
    "print(model_aleph.accuracy)"
   ]
  },
  {
   "cell_type": "code",
   "execution_count": null,
   "id": "9fd9276b",
   "metadata": {},
   "outputs": [],
   "source": [
    "import random\n",
    "Neg = random.sample(NEG, 3)\n",
    "Pos = random.sample(POS, 1)\n",
    "\n",
    "print(Neg)\n"
   ]
  },
  {
   "cell_type": "code",
   "execution_count": null,
   "id": "6227f0ca",
   "metadata": {},
   "outputs": [],
   "source": []
  },
  {
   "cell_type": "code",
   "execution_count": 3,
   "id": "d7c7bd64",
   "metadata": {
    "scrolled": true
   },
   "outputs": [
    {
     "ename": "SyntaxError",
     "evalue": "invalid syntax (3655413064.py, line 6)",
     "output_type": "error",
     "traceback": [
      "\u001b[0;36m  Input \u001b[0;32mIn [3]\u001b[0;36m\u001b[0m\n\u001b[0;31m    for element in sequence\u001b[0m\n\u001b[0m                           ^\u001b[0m\n\u001b[0;31mSyntaxError\u001b[0m\u001b[0;31m:\u001b[0m invalid syntax\n"
     ]
    }
   ],
   "source": [
    "accuracy_a = []\n",
    "hypothesis_a =[]\n",
    "from PyILP import *\n",
    "\n",
    "sequence = [.9, .8, .7,.6 , .5, .4, .3, .2,.1]\n",
    "for element in sequence\n",
    "for i in range(1, 11):\n",
    "    mode =aleph_learn(file=\"BK.pl\", \n",
    "            test_size=element, \n",
    "            positive_example=\"pos_example.f\", \n",
    "            negative_example=\"neg_example.n\", \n",
    "            shuffle=True, \n",
    "            settings=\"modes_aleph.pl\")\n",
    "    if mode:\n",
    "        accuracy_a.append(mode.accuracy)\n",
    "        hypothesis_a.append(mode.hypothesis)\n",
    "\n",
    "    else:\n",
    "        accuracy_a.append(0.5)\n",
    "        hypothesis_a.append('-')\n",
    "\n",
    "#    accuracy_a.append(mode.accuracy)\n",
    " #   hypothesis_a.append(mode.hypothesis)"
   ]
  },
  {
   "cell_type": "code",
   "execution_count": null,
   "id": "7bcd7572",
   "metadata": {},
   "outputs": [],
   "source": [
    "accuracy_a = []\n",
    "hypothesis_a =[]\n",
    "\n",
    "from PyILP import *\n",
    "\n",
    "for j\n",
    "for i in range(1, 11):\n",
    "    mode =aleph_learn(file=\"BK.pl\", \n",
    "            test_size=0.7, \n",
    "            positive_example=\"pos_example.f\", \n",
    "            negative_example=\"neg_example.n\", \n",
    "            shuffle=True, \n",
    "            settings=\"modes_aleph.pl\")\n",
    "    accuracy_a.append(mode.accuracy)\n",
    "    hypothesis_a.append(mode.hypothesis)"
   ]
  },
  {
   "cell_type": "markdown",
   "id": "64db8fe5",
   "metadata": {},
   "source": [
    "print(accuracy_a)\n",
    "print (*hypothesis_a, sep='\\n')\n"
   ]
  },
  {
   "cell_type": "code",
   "execution_count": null,
   "id": "009a1fb8",
   "metadata": {},
   "outputs": [],
   "source": [
    "print(accuracy_a) \n",
    "print (*hypothesis_a, sep='\\n')"
   ]
  },
  {
   "cell_type": "code",
   "execution_count": null,
   "id": "1b807387",
   "metadata": {},
   "outputs": [],
   "source": [
    "hypothesis_a.count(hypothesis_a[1])"
   ]
  },
  {
   "cell_type": "code",
   "execution_count": null,
   "id": "8ed06df4",
   "metadata": {},
   "outputs": [],
   "source": [
    "hypothesis_a[11]"
   ]
  },
  {
   "cell_type": "code",
   "execution_count": null,
   "id": "2a58f5b9",
   "metadata": {},
   "outputs": [],
   "source": [
    "std_dev = np.array(accuracy_a).std(axis=0)\n",
    "average = np.array(accuracy_a).mean(axis=0)\n",
    "plt.errorbar(x, average, yerr=std_dev)"
   ]
  },
  {
   "cell_type": "code",
   "execution_count": null,
   "id": "ba73fe13",
   "metadata": {},
   "outputs": [],
   "source": [
    "test=evaluate_theory_prolog(\"traffic_sign(A,stop) :-   has_word(A,B).\", \"BK.pl\",\"pos_example.f\", \"neg_example.n\")"
   ]
  },
  {
   "cell_type": "code",
   "execution_count": null,
   "id": "8bebc036",
   "metadata": {},
   "outputs": [],
   "source": [
    "model_aleph.hypothesis"
   ]
  },
  {
   "cell_type": "code",
   "execution_count": null,
   "id": "5918de57",
   "metadata": {
    "scrolled": true
   },
   "outputs": [],
   "source": [
    "model_1 = metagol_learn(file=\"BK.pl\", \n",
    "              test_size=.9,\n",
    "              positive_example=\"pos_example.f\",\n",
    "              negative_example=\"neg_example.n\",\n",
    "              shuffle=True,\n",
    "              settings=\"meta.pl\")"
   ]
  },
  {
   "cell_type": "code",
   "execution_count": null,
   "id": "cac7a666",
   "metadata": {},
   "outputs": [],
   "source": [
    "accuracy_m = []\n",
    "hypothesis_m =[]\n",
    "from PyILP import *\n",
    "\n",
    "for i in range(1, 51):\n",
    "    model_1 = metagol_learn(file=\"BK.pl\", \n",
    "              test_size=.8,\n",
    "              positive_example=\"pos_example.f\",\n",
    "              negative_example=\"neg_example.n\",\n",
    "              shuffle=True,\n",
    "              settings=\"meta.pl\")\n",
    "    accuracy_m.append(model_1.accuracy)\n",
    "    hypothesis_m.append(model_1.hypothesis)"
   ]
  },
  {
   "cell_type": "code",
   "execution_count": null,
   "id": "5a1bbacc",
   "metadata": {},
   "outputs": [],
   "source": [
    "print(accuracy_m)\n",
    "print(sum(accuracy_m) / len(accuracy_m))\n",
    "print(*hypothesis_m, sep='\\n')"
   ]
  },
  {
   "cell_type": "code",
   "execution_count": null,
   "id": "0bd05a56",
   "metadata": {},
   "outputs": [],
   "source": [
    "model_1.hypothesis"
   ]
  },
  {
   "cell_type": "code",
   "execution_count": null,
   "id": "90b01506",
   "metadata": {},
   "outputs": [],
   "source": [
    "pos=read_example(\"pos_Art.f\")\n",
    "neg=read_example(\"neg_example.n\")\n",
    "test=evaluate_theory_prolog(model_1.hypothesis, \"BK.pl\",pos, neg)"
   ]
  },
  {
   "cell_type": "code",
   "execution_count": null,
   "id": "2452707b",
   "metadata": {},
   "outputs": [],
   "source": [
    "model_1.accuracy"
   ]
  },
  {
   "cell_type": "code",
   "execution_count": null,
   "id": "d72d86e2",
   "metadata": {
    "scrolled": true
   },
   "outputs": [],
   "source": [
    "model_2=metagol_cross_validation(CV=10, settings=\"meta.pl\")"
   ]
  },
  {
   "cell_type": "code",
   "execution_count": null,
   "id": "c96bc8c7",
   "metadata": {},
   "outputs": [],
   "source": [
    "model_2.accuracy"
   ]
  },
  {
   "cell_type": "code",
   "execution_count": null,
   "id": "df51ed92",
   "metadata": {},
   "outputs": [],
   "source": [
    "model_1=metagol_learn(file=\"sign_mil.pl\", test_size=0, positive_example=[], negative_example=[])"
   ]
  },
  {
   "cell_type": "code",
   "execution_count": null,
   "id": "f378edbd",
   "metadata": {},
   "outputs": [],
   "source": [
    "model_1.hypothesis"
   ]
  },
  {
   "cell_type": "code",
   "execution_count": null,
   "id": "c62d3f4d",
   "metadata": {},
   "outputs": [],
   "source": [
    "#pip install yolk"
   ]
  },
  {
   "cell_type": "code",
   "execution_count": null,
   "id": "e1958177",
   "metadata": {},
   "outputs": [],
   "source": [
    "import matplotlib.font_manager\n",
    "del matplotlib.font_manager.weight_dict['Times']\n",
    "matplotlib.font_manager.rcParams"
   ]
  },
  {
   "cell_type": "raw",
   "id": "d9aee9cd",
   "metadata": {},
   "source": [
    "import matplotlib.pyplot as plt\n",
    "import numpy as np\n",
    "\n",
    "\n",
    "\n",
    "fig, ax = plt.subplots()\n",
    "size = [1, 2, 3, 4, 5, 6, 7, 8]\n",
    "aleph = [50, 50, 93.31, 94.47, 95.50, 96.7,98.95 , 100]\n",
    "metagol = [50, 100, 100, 100, 100, 100, 100, 100]\n",
    "\n",
    "plt.plot(size, aleph,'-o',  label='Aleph')\n",
    "plt.plot(size, metagol,'-*',  label='Metagol')\n",
    "plt.legend(fontsize=\"xx-large\", prop=\"Times\")\n",
    "\n",
    "plt.xlabel('Number of positive and negative examples ', fontweight=\"bold\", fontname=\"Times\", fontsize=15)\n",
    "plt.ylabel('Accuracy', fontweight=\"bold\", fontname=\"Times\", fontsize=15)\n",
    "plt.show()\n",
    "\n",
    "image_format = 'svg' # e.g .png, .svg, etc.\n",
    "image_name = 'myimage.svg'\n",
    "\n",
    "fig.savefig(image_name, format=image_format, dpi=1200)"
   ]
  },
  {
   "cell_type": "code",
   "execution_count": null,
   "id": "da3b678f",
   "metadata": {},
   "outputs": [],
   "source": [
    "from pyswip import Prolog, Variable, Functor\n",
    "import os\n",
    "from utils import *\n",
    "\n",
    "file_name=\"mtrain.pl\"\n",
    "learn(file_name)\n",
    "theory=generate_theory_aleph(file_name)\n",
    "print(theory)\n",
    "acc=evaluate_theory(file_name, theory)\n",
    "print(\"accuracy : \", acc)"
   ]
  },
  {
   "cell_type": "code",
   "execution_count": null,
   "id": "d1a42051",
   "metadata": {},
   "outputs": [],
   "source": [
    "pos=read_example('pos_example.f')\n",
    "neg=read_example('neg_example.n')\n",
    "\n",
    "accuracy=[]\n",
    "\n",
    "\n",
    "for i in range(1,6):\n",
    "    random.seed(100)\n",
    "    pos_example= random.sample(pos, i)\n",
    "    for k in range(0,10):\n",
    "        acc=[]\n",
    "        for j in range(1,5):\n",
    "            random.seed(100)\n",
    "            neg_example=random.sample(neg,j)\n",
    "            print(\"negD\", neg_example)\n",
    "            mode =aleph_learn(file=\"BK.pl\", \n",
    "                        test_size=0.4, \n",
    "                        positive_example=pos_example,\n",
    "                        negative_example=neg_example,\n",
    "                        shuffle=True, \n",
    "                        settings=\"modes_aleph.pl\")\n",
    "            if mode:\n",
    "                acc.append(mode.accuracy)\n",
    "            else:\n",
    "                acc.append(0)\n",
    "        accuracy.append(acc)\n",
    "        "
   ]
  },
  {
   "cell_type": "code",
   "execution_count": null,
   "id": "5d1394ed",
   "metadata": {},
   "outputs": [],
   "source": [
    "accuracy"
   ]
  },
  {
   "cell_type": "code",
   "execution_count": null,
   "id": "e0cada48",
   "metadata": {},
   "outputs": [],
   "source": [
    "for i in accuracy:\n",
    "    print(np.mean(i))"
   ]
  },
  {
   "cell_type": "code",
   "execution_count": 1,
   "id": "98bb4871",
   "metadata": {},
   "outputs": [
    {
     "data": {
      "image/png": "[encoded data removed]",
      "text/plain": [
       "<Figure size 640x480 with 1 Axes>"
      ]
     },
     "metadata": {},
     "output_type": "display_data"
    }
   ],
   "source": [
    "import matplotlib.pyplot as plt\n",
    "import numpy as np\n",
    "\n",
    "\n",
    "\n",
    "fig, ax = plt.subplots()\n",
    "size = [1, 2, 3, 4, 5, 6, 7, 8]\n",
    "aleph = [50, 50, 93.31, 94.47, 95.50, 96.7,98.95 , 100]\n",
    "metagol = [50, 100, 100, 100, 100, 100, 100, 100]\n",
    "default = [50, 50, 50, 50, 50, 50, 50, 50]\n",
    "plt.plot(size, aleph,'-o',  label='Aleph')\n",
    "plt.plot(size, metagol,'-*',  label='Metagol')\n",
    "plt.plot(size, default,'-x',  label='Metagol')\n",
    "plt.grid()\n",
    "plt.legend(fontsize=\"xx-large\", prop=\"Times\")\n",
    "\n",
    "plt.xlabel('Number of positive and negative examples ', fontweight=\"bold\", fontname=\"Times\", fontsize=15)\n",
    "plt.ylabel('Average Accuracy', fontweight=\"bold\", fontname=\"Times\", fontsize=15)\n",
    "plt.show()\n",
    "\n",
    "\n",
    "image_format = 'svg' # e.g .png, .svg, etc.\n",
    "image_name = 'myimage.svg'\n",
    "\n",
    "fig.savefig(image_name, format=image_format, dpi=1200)"
   ]
  },
  {
   "cell_type": "code",
   "execution_count": null,
   "id": "033c1e0c",
   "metadata": {},
   "outputs": [],
   "source": []
  }
 ],
 "metadata": {
  "kernelspec": {
   "display_name": "Python 3 (ipykernel)",
   "language": "python",
   "name": "python3"
  },
  "language_info": {
   "codemirror_mode": {
    "name": "ipython",
    "version": 3
   },
   "file_extension": ".py",
   "mimetype": "text/x-python",
   "name": "python",
   "nbconvert_exporter": "python",
   "pygments_lexer": "ipython3",
   "version": "3.8.9"
  }
 },
 "nbformat": 4,
 "nbformat_minor": 5
}
